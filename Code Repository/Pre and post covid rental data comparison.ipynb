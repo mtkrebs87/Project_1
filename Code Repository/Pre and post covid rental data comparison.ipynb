{
 "cells": [
  {
   "cell_type": "code",
   "execution_count": 18,
   "id": "b4877011",
   "metadata": {},
   "outputs": [],
   "source": [
    "import pandas as pd\n",
    "import numpy as np  # Import numpy for calculations related to figure size\n",
    "from IPython.display import display, Markdown\n",
    "import matplotlib.pyplot as plt\n",
    "import six"
   ]
  },
  {
   "cell_type": "code",
   "execution_count": 19,
   "id": "0e537356",
   "metadata": {},
   "outputs": [],
   "source": [
    "# Read the data\n",
    "file_path = '../Data File Repository/Combined_Rental_Median_Price_Inventory.csv'\n",
    "df = pd.read_csv(file_path)"
   ]
  },
  {
   "cell_type": "code",
   "execution_count": 20,
   "id": "c81a7a0a",
   "metadata": {},
   "outputs": [],
   "source": [
    "# Clean and preprocess data (remove dollar signs and convert to float)\n",
    "df.replace({'\\$':'', ',':''}, regex=True, inplace=True)\n",
    "for col in df.columns[1:]:  # Starting from 1 to skip 'Borough'\n",
    "    if 'Rent' in col:  # Only columns with 'Rent' in their name are monetary values\n",
    "        df[col] = df[col].astype(float)\n"
   ]
  },
  {
   "cell_type": "code",
   "execution_count": 21,
   "id": "9462f7a4",
   "metadata": {},
   "outputs": [],
   "source": [
    "# Split data into pre-COVID and post-COVID (assuming pre-COVID is before 2020)\n",
    "pre_covid_years = [str(year) for year in range(2010, 2020)]\n",
    "post_covid_years = [str(year) for year in range(2020, 2024)]\n"
   ]
  },
  {
   "cell_type": "code",
   "execution_count": 22,
   "id": "897e5349",
   "metadata": {},
   "outputs": [],
   "source": [
    "# Create a function to calculate the summary statistics\n",
    "def calculate_statistics(df, years):\n",
    "    summary_stats = pd.DataFrame()\n",
    "    for year in years:\n",
    "        rentals_col = f'{year} Total Rentals'\n",
    "        median_rent_col = f'{year} Median Rent'\n",
    "        summary_stats[f'{year} Avg Total Rentals'] = [df[rentals_col].mean()]\n",
    "        summary_stats[f'{year} Avg Median Rent'] = [df[median_rent_col].mean()]\n",
    "    summary_stats['Period'] = 'Pre-COVID' if '2010' in years else 'Post-COVID'\n",
    "    return summary_stats\n"
   ]
  },
  {
   "cell_type": "code",
   "execution_count": 23,
   "id": "518070fb",
   "metadata": {},
   "outputs": [],
   "source": [
    "# Calculate summary statistics for pre-COVID and post-COVID periods\n",
    "pre_covid_stats = calculate_statistics(df, pre_covid_years)\n",
    "post_covid_stats = calculate_statistics(df, post_covid_years)\n"
   ]
  },
  {
   "cell_type": "code",
   "execution_count": 24,
   "id": "d51b2759",
   "metadata": {},
   "outputs": [],
   "source": [
    "# Merge both summary statistics\n",
    "summary_comparison = pd.concat([pre_covid_stats, post_covid_stats], ignore_index=True)\n"
   ]
  },
  {
   "cell_type": "code",
   "execution_count": 25,
   "id": "a5189f61",
   "metadata": {},
   "outputs": [],
   "source": [
    "# Calculate changes from pre-COVID to post-COVID for each Borough\n",
    "change_stats_list = []  # Use a list to store data temporarily\n",
    "\n",
    "for borough in df['Borough'].unique():  # Make sure to use unique to avoid repetitive calculations\n",
    "    borough_data = df[df['Borough'] == borough]\n",
    "    pre_avg_rentals = borough_data[[year + ' Total Rentals' for year in pre_covid_years]].mean(axis=1).values[0]\n",
    "    post_avg_rentals = borough_data[[year + ' Total Rentals' for year in post_covid_years]].mean(axis=1).values[0]\n",
    "    pre_avg_rent = borough_data[[year + ' Median Rent' for year in pre_covid_years]].mean(axis=1).values[0]\n",
    "    post_avg_rent = borough_data[[year + ' Median Rent' for year in post_covid_years]].mean(axis=1).values[0]\n",
    "    \n",
    "    # Append borough data to the list as a dictionary\n",
    "    change_stats_list.append({\n",
    "        'Borough': borough,\n",
    "        'Change in Avg Rentals': post_avg_rentals - pre_avg_rentals,\n",
    "        'Change in Avg Median Rent': post_avg_rent - pre_avg_rent,\n",
    "        'Percentage Change in Rentals': ((post_avg_rentals - pre_avg_rentals) / pre_avg_rentals) * 100 if pre_avg_rentals else None,\n",
    "        'Percentage Change in Median Rent': ((post_avg_rent - pre_avg_rent) / pre_avg_rent) * 100 if pre_avg_rent else None,\n",
    "    })\n"
   ]
  },
  {
   "cell_type": "code",
   "execution_count": 26,
   "id": "b13b3c51",
   "metadata": {},
   "outputs": [],
   "source": [
    "# Convert the list of dictionaries to a DataFrame\n",
    "change_stats = pd.DataFrame(change_stats_list)\n"
   ]
  },
  {
   "cell_type": "code",
   "execution_count": 41,
   "id": "72eb94f9",
   "metadata": {},
   "outputs": [],
   "source": [
    "# Format 'Change in Avg Rentals' to whole numbers\n",
    "change_stats['Change in Avg Rentals'] = change_stats['Change in Avg Rentals'].astype(int)\n",
    "\n",
    "# Format 'Change in Avg Median Rent' as currency\n",
    "change_stats['Change in Avg Median Rent'] = change_stats['Change in Avg Median Rent'].apply(lambda x: \"${:,.2f}\".format(x))\n",
    "\n",
    "# Format percentages to one decimal place with % symbols\n",
    "change_stats['Percentage Change in Rentals'] = change_stats['Percentage Change in Rentals'].apply(lambda x: \"{:.1f}%\".format(x) if pd.notnull(x) else None)\n",
    "change_stats['Percentage Change in Median Rent'] = change_stats['Percentage Change in Median Rent'].apply(lambda x: \"{:.1f}%\".format(x) if pd.notnull(x) else None)\n"
   ]
  },
  {
   "cell_type": "code",
   "execution_count": 42,
   "id": "0af5e58b",
   "metadata": {
    "scrolled": true
   },
   "outputs": [
    {
     "data": {
      "text/markdown": [
       "### Change in Rentals and Median Rent by Borough (Pre vs. Post COVID-19)"
      ],
      "text/plain": [
       "<IPython.core.display.Markdown object>"
      ]
     },
     "metadata": {},
     "output_type": "display_data"
    },
    {
     "data": {
      "text/html": [
       "<div>\n",
       "<style scoped>\n",
       "    .dataframe tbody tr th:only-of-type {\n",
       "        vertical-align: middle;\n",
       "    }\n",
       "\n",
       "    .dataframe tbody tr th {\n",
       "        vertical-align: top;\n",
       "    }\n",
       "\n",
       "    .dataframe thead th {\n",
       "        text-align: right;\n",
       "    }\n",
       "</style>\n",
       "<table border=\"1\" class=\"dataframe\">\n",
       "  <thead>\n",
       "    <tr style=\"text-align: right;\">\n",
       "      <th></th>\n",
       "      <th>Borough</th>\n",
       "      <th>Change in Avg Rentals</th>\n",
       "      <th>Change in Avg Median Rent</th>\n",
       "      <th>Percentage Change in Rentals</th>\n",
       "      <th>Percentage Change in Median Rent</th>\n",
       "    </tr>\n",
       "  </thead>\n",
       "  <tbody>\n",
       "    <tr>\n",
       "      <th>0</th>\n",
       "      <td>Bronx</td>\n",
       "      <td>6937</td>\n",
       "      <td>$474.92</td>\n",
       "      <td>53.4%</td>\n",
       "      <td>31.8%</td>\n",
       "    </tr>\n",
       "    <tr>\n",
       "      <th>1</th>\n",
       "      <td>Brooklyn</td>\n",
       "      <td>166927</td>\n",
       "      <td>$496.53</td>\n",
       "      <td>55.8%</td>\n",
       "      <td>22.8%</td>\n",
       "    </tr>\n",
       "    <tr>\n",
       "      <th>2</th>\n",
       "      <td>Manhattan</td>\n",
       "      <td>69812</td>\n",
       "      <td>$502.03</td>\n",
       "      <td>11.0%</td>\n",
       "      <td>15.3%</td>\n",
       "    </tr>\n",
       "    <tr>\n",
       "      <th>3</th>\n",
       "      <td>Queens</td>\n",
       "      <td>72425</td>\n",
       "      <td>$382.59</td>\n",
       "      <td>71.0%</td>\n",
       "      <td>21.0%</td>\n",
       "    </tr>\n",
       "    <tr>\n",
       "      <th>4</th>\n",
       "      <td>Staten Island</td>\n",
       "      <td>104</td>\n",
       "      <td>$608.85</td>\n",
       "      <td>17.7%</td>\n",
       "      <td>43.4%</td>\n",
       "    </tr>\n",
       "  </tbody>\n",
       "</table>\n",
       "</div>"
      ],
      "text/plain": [
       "         Borough  Change in Avg Rentals Change in Avg Median Rent  \\\n",
       "0          Bronx                   6937                   $474.92   \n",
       "1       Brooklyn                 166927                   $496.53   \n",
       "2      Manhattan                  69812                   $502.03   \n",
       "3         Queens                  72425                   $382.59   \n",
       "4  Staten Island                    104                   $608.85   \n",
       "\n",
       "  Percentage Change in Rentals Percentage Change in Median Rent  \n",
       "0                        53.4%                            31.8%  \n",
       "1                        55.8%                            22.8%  \n",
       "2                        11.0%                            15.3%  \n",
       "3                        71.0%                            21.0%  \n",
       "4                        17.7%                            43.4%  "
      ]
     },
     "execution_count": 42,
     "metadata": {},
     "output_type": "execute_result"
    }
   ],
   "source": [
    "# Display the title with Markdown\n",
    "display(Markdown('### Change in Rentals and Median Rent by Borough (Pre vs. Post COVID-19)'))\n",
    "\n",
    "# Display the change stats DataFrame\n",
    "change_stats"
   ]
  },
  {
   "cell_type": "code",
   "execution_count": 43,
   "id": "46e86f6f",
   "metadata": {},
   "outputs": [],
   "source": [
    "# Function to render a dataframe as a table using matplotlib\n",
    "def render_mpl_table(data, col_width=3.0, row_height=0.625, font_size=14,\n",
    "                     header_color='#40466e', row_colors=['#f1f1f2', 'w'], edge_color='w',\n",
    "                     bbox=[0, 0, 1, 1], header_columns=0,\n",
    "                     ax=None, **kwargs):\n",
    "    if ax is None:\n",
    "        size = (np.array(data.shape[::-1]) + np.array([0, 1])) * np.array([col_width, row_height])\n",
    "        fig, ax = plt.subplots(figsize=size)\n",
    "        ax.axis('off')\n",
    "\n",
    "    mpl_table = ax.table(cellText=data.values, bbox=bbox, colLabels=data.columns, **kwargs)\n",
    "\n",
    "    mpl_table.auto_set_font_size(False)\n",
    "    mpl_table.set_fontsize(font_size)\n",
    "\n",
    "    for k, cell in six.iteritems(mpl_table._cells):\n",
    "        cell.set_edgecolor(edge_color)\n",
    "        if k[0] == 0 or k[1] < header_columns:\n",
    "            cell.set_text_props(weight='bold', color='w')\n",
    "            cell.set_facecolor(header_color)\n",
    "        else:\n",
    "            cell.set_facecolor(row_colors[k[0] % len(row_colors) ])\n",
    "    return ax"
   ]
  },
  {
   "cell_type": "code",
   "execution_count": 44,
   "id": "30930f56",
   "metadata": {
    "scrolled": false
   },
   "outputs": [
    {
     "data": {
      "text/plain": [
       "<Figure size 2500x800 with 0 Axes>"
      ]
     },
     "metadata": {},
     "output_type": "display_data"
    }
   ],
   "source": [
    "# Create a larger figure if needed\n",
    "plt.figure(figsize=(25, 8))  \n",
    "\n",
    "# Render your table to the figure\n",
    "ax = render_mpl_table(change_stats, header_columns=1, col_width=4.0)  \n",
    "fig = ax.get_figure()\n",
    "\n",
    "# Set the title\n",
    "fig.suptitle('Change in Rentals and Median Rent by Borough (Pre vs. Post COVID-19)', size=16)\n",
    "\n",
    "# Adjust the layout\n",
    "fig.tight_layout()\n",
    "\n",
    "# Adjust the layout to accommodate the title\n",
    "fig.subplots_adjust(top=0.9)  \n",
    "\n",
    "# Save the figure\n",
    "plt.savefig('../Charts and Graphs Output/change_stats_table.png', dpi=300, bbox_inches='tight')\n",
    "plt.close(fig) "
   ]
  },
  {
   "cell_type": "code",
   "execution_count": null,
   "id": "0877edc5",
   "metadata": {},
   "outputs": [],
   "source": []
  }
 ],
 "metadata": {
  "kernelspec": {
   "display_name": "Python 3 (ipykernel)",
   "language": "python",
   "name": "python3"
  },
  "language_info": {
   "codemirror_mode": {
    "name": "ipython",
    "version": 3
   },
   "file_extension": ".py",
   "mimetype": "text/x-python",
   "name": "python",
   "nbconvert_exporter": "python",
   "pygments_lexer": "ipython3",
   "version": "3.11.5"
  }
 },
 "nbformat": 4,
 "nbformat_minor": 5
}
