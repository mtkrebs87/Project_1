{
 "cells": [
  {
   "cell_type": "code",
   "execution_count": 1,
   "id": "94fe5ea8",
   "metadata": {},
   "outputs": [],
   "source": [
    "import pandas as pd\n",
    "import matplotlib.pyplot as plt"
   ]
  },
  {
   "cell_type": "code",
   "execution_count": 2,
   "id": "d50bd276",
   "metadata": {},
   "outputs": [],
   "source": [
    "# Load the datasets\n",
    "inventory_df = pd.read_csv('../Data File Repository/Rental_Inventory_DF.csv')\n",
    "rent_df = pd.read_csv('../Data File Repository/Yearly_Median_Rent_DF.csv')\n"
   ]
  },
  {
   "cell_type": "code",
   "execution_count": null,
   "id": "e6456e38",
   "metadata": {},
   "outputs": [],
   "source": [
    "# Convert the rent prices to numeric, removing the dollar sign and converting to float\n",
    "rent_df.iloc[:, 1:] = rent_df.iloc[:, 1:].replace('[\\$,]', '', regex=True).astype(float)\n"
   ]
  },
  {
   "cell_type": "code",
   "execution_count": null,
   "id": "08dc5cf3",
   "metadata": {},
   "outputs": [],
   "source": [
    "# Transform the inventory DataFrame from wide to long format\n",
    "inventory_long_df = pd.melt(inventory_df, id_vars=['Borough'], var_name='Year', value_name='Inventory')\n"
   ]
  }
 ],
 "metadata": {
  "kernelspec": {
   "display_name": "Python 3 (ipykernel)",
   "language": "python",
   "name": "python3"
  },
  "language_info": {
   "codemirror_mode": {
    "name": "ipython",
    "version": 3
   },
   "file_extension": ".py",
   "mimetype": "text/x-python",
   "name": "python",
   "nbconvert_exporter": "python",
   "pygments_lexer": "ipython3",
   "version": "3.11.5"
  }
 },
 "nbformat": 4,
 "nbformat_minor": 5
}
