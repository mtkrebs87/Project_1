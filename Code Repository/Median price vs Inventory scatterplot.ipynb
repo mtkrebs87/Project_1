{
 "cells": [
  {
   "cell_type": "code",
   "execution_count": 1,
   "id": "4ec69f8a",
   "metadata": {},
   "outputs": [],
   "source": [
    "import pandas as pd\n",
    "import matplotlib.pyplot as plt\n",
    "import os"
   ]
  },
  {
   "cell_type": "code",
   "execution_count": 2,
   "id": "2ca55a9b",
   "metadata": {},
   "outputs": [],
   "source": [
    "# Load the two CSV files into DataFrames\n",
    "rental_inventory_df = pd.read_csv('../Data File Repository/Rental_Inventory_DF.csv')\n",
    "yearly_median_rent_df = pd.read_csv('../Data File Repository/Yearly_Median_Rent_DF.csv')\n"
   ]
  },
  {
   "cell_type": "code",
   "execution_count": 3,
   "id": "4990df38",
   "metadata": {},
   "outputs": [],
   "source": [
    "# Rename columns in rental_inventory_df\n",
    "rental_inventory_columns = {'Borough': 'Borough'}\n",
    "rental_inventory_columns.update({\n",
    "    str(year): f\"{year} Total Rentals\" for year in range(2010, 2024)\n",
    "})\n",
    "rental_inventory_df.rename(columns=rental_inventory_columns, inplace=True)\n"
   ]
  },
  {
   "cell_type": "code",
   "execution_count": 4,
   "id": "9de6f947",
   "metadata": {},
   "outputs": [],
   "source": [
    "# Rename columns in yearly_median_rent_df\n",
    "yearly_median_rent_columns = {'Borough': 'Borough'}\n",
    "yearly_median_rent_columns.update({\n",
    "    str(year): f\"{year} Median Rent\" for year in range(2010, 2024)\n",
    "})\n",
    "yearly_median_rent_df.rename(columns=yearly_median_rent_columns, inplace=True)\n"
   ]
  },
  {
   "cell_type": "code",
   "execution_count": 5,
   "id": "d851a37c",
   "metadata": {},
   "outputs": [],
   "source": [
    "# Combine the two DataFrames into a single DataFrame on 'Borough'\n",
    "combined_df = pd.merge(rental_inventory_df, yearly_median_rent_df, on='Borough')\n"
   ]
  },
  {
   "cell_type": "code",
   "execution_count": 6,
   "id": "6710b133",
   "metadata": {},
   "outputs": [],
   "source": [
    "# Define new column order\n",
    "new_order = ['Borough']\n",
    "for year in range(2010, 2024):\n",
    "    new_order.extend([f\"{year} Total Rentals\", f\"{year} Median Rent\"])\n"
   ]
  },
  {
   "cell_type": "code",
   "execution_count": 7,
   "id": "f314d4e7",
   "metadata": {},
   "outputs": [],
   "source": [
    "# Reorder columns based on the new order\n",
    "combined_df = combined_df[new_order]"
   ]
  },
  {
   "cell_type": "code",
   "execution_count": 8,
   "id": "d89b75ba",
   "metadata": {},
   "outputs": [
    {
     "name": "stdout",
     "output_type": "stream",
     "text": [
      "combined_df:\n",
      "          Borough  2010 Total Rentals 2010 Median Rent  2011 Total Rentals  \\\n",
      "0          Bronx                3087         $1425.00                3674   \n",
      "1       Brooklyn               59006         $2033.50               65757   \n",
      "2      Manhattan              441207         $2847.50              395231   \n",
      "3         Queens               19596         $1538.25               18369   \n",
      "4  Staten Island                  55             $nan                  57   \n",
      "\n",
      "  2011 Median Rent  2012 Total Rentals 2012 Median Rent  2013 Total Rentals  \\\n",
      "0         $1210.75                5419         $1425.00                5462   \n",
      "1         $1743.75               83105         $1900.00              136910   \n",
      "2         $3157.00              456434         $3275.00              576566   \n",
      "3         $1550.00               30753         $1825.00               40171   \n",
      "4             $nan                 139         $1400.00                 331   \n",
      "\n",
      "  2013 Median Rent  2014 Total Rentals  ... 2019 Total Rentals  \\\n",
      "0         $1275.00               10815  ...              24007   \n",
      "1         $2106.25              275336  ...             487618   \n",
      "2         $3282.50              697721  ...             675302   \n",
      "3         $1743.75               89093  ...             177469   \n",
      "4         $1487.50                 522  ...                812   \n",
      "\n",
      "   2019 Median Rent 2020 Total Rentals  2020 Median Rent 2021 Total Rentals  \\\n",
      "0          $1829.00              17403          $1850.00              21560   \n",
      "1          $2450.00             629297          $2475.00             580416   \n",
      "2          $3500.00            1013629          $3172.50             806908   \n",
      "3          $2010.75             205331          $2025.00             232639   \n",
      "4          $2022.50                481          $1925.00                627   \n",
      "\n",
      "   2021 Median Rent 2022 Total Rentals  2022 Median Rent 2023 Total Rentals  \\\n",
      "0          $1851.00              22666          $1985.00              18069   \n",
      "1          $2256.00             359197          $2847.50             296376   \n",
      "2          $3267.50             506199          $4213.00             481479   \n",
      "3          $2004.25             146431          $2300.00             113475   \n",
      "4          $1975.00                925          $2050.00                742   \n",
      "\n",
      "   2023 Median Rent  \n",
      "0          $2191.00  \n",
      "1          $3125.00  \n",
      "2          $4471.50  \n",
      "3          $2500.00  \n",
      "4          $2095.00  \n",
      "\n",
      "[5 rows x 29 columns]\n"
     ]
    }
   ],
   "source": [
    "# Print the resulting DataFrame for debugging purposes\n",
    "print(\"combined_df:\\n\", combined_df.head())"
   ]
  },
  {
   "cell_type": "code",
   "execution_count": 9,
   "id": "4164cd92",
   "metadata": {},
   "outputs": [],
   "source": [
    "# Save the DataFrame as a CSV file in the \"Data File Repository\" directory one level up\n",
    "output_folder = '../Data File Repository'\n",
    "output_file_path = os.path.join(output_folder, 'Combined_Rental_Median_Price_Inventory.csv')\n",
    "os.makedirs(output_folder, exist_ok=True)  # Create the folder if it doesn't exist\n",
    "combined_df.to_csv(output_file_path, index=False)\n"
   ]
  },
  {
   "cell_type": "code",
   "execution_count": 10,
   "id": "6f4389e8",
   "metadata": {},
   "outputs": [],
   "source": [
    "# Melt the dataframe for easier plotting.\n",
    "melted_inventory = combined_df.melt(id_vars=['Borough'], value_vars=[f\"{year} Total Rentals\" for year in range(2010, 2024)], var_name='Year', value_name='Total Rentals')\n",
    "melted_rent = combined_df.melt(id_vars=['Borough'], value_vars=[f\"{year} Median Rent\" for year in range(2010, 2024)], var_name='Year', value_name='Median Rent')\n"
   ]
  },
  {
   "cell_type": "code",
   "execution_count": 11,
   "id": "121d84c7",
   "metadata": {},
   "outputs": [],
   "source": [
    "# Clean up the Median Rent column and convert to float\n",
    "melted_rent['Median Rent'] = melted_rent['Median Rent'].replace('[\\$,]', '', regex=True).astype(float)\n"
   ]
  },
  {
   "cell_type": "code",
   "execution_count": 12,
   "id": "094cb0a5",
   "metadata": {},
   "outputs": [],
   "source": [
    "# Convert 'Year' to int for plotting\n",
    "melted_inventory['Year'] = melted_inventory['Year'].str.split(' ').str[0].astype(int)\n",
    "melted_rent['Year'] = melted_rent['Year'].str.split(' ').str[0].astype(int)\n"
   ]
  },
  {
   "cell_type": "code",
   "execution_count": 13,
   "id": "47992834",
   "metadata": {
    "scrolled": true
   },
   "outputs": [
    {
     "data": {
      "image/png": "[encoded data removed]",
      "text/plain": [
       "<Figure size 1400x700 with 1 Axes>"
      ]
     },
     "metadata": {},
     "output_type": "display_data"
    }
   ],
   "source": [
    "# Create a figure and a single subplot for the scatter plot\n",
    "fig, ax1 = plt.subplots(figsize=(14, 7))\n"
   ]
  },
  {
   "cell_type": "code",
   "execution_count": 14,
   "id": "84c176fa",
   "metadata": {},
   "outputs": [],
   "source": [
    "# Define colors and other parameters for the scatter plot\n",
    "colors = ['blue', 'green', 'red', 'purple', 'orange']\n",
    "point_size = 50\n",
    "transparency = 0.8\n",
    "border_width = 0.8\n",
    "border_color = 'black'\n",
    "\n",
    "# Scatter plot for Total Rentals\n",
    "for (borough, color) in zip(melted_inventory['Borough'].unique(), colors):\n",
    "    ax1.scatter(melted_inventory[melted_inventory['Borough'] == borough]['Year'], \n",
    "                melted_inventory[melted_inventory['Borough'] == borough]['Total Rentals'], \n",
    "                s=point_size, c=color, alpha=transparency, linewidths=border_width, edgecolors=border_color, label=f\"{borough} Total Rentals\")\n"
   ]
  },
  {
   "cell_type": "code",
   "execution_count": 15,
   "id": "d5ad8f8c",
   "metadata": {},
   "outputs": [
    {
     "data": {
      "text/plain": [
       "(50, 1100000)"
      ]
     },
     "execution_count": 15,
     "metadata": {},
     "output_type": "execute_result"
    }
   ],
   "source": [
    "# Set the y1 axis to a logarithmic scale for Total Rentals\n",
    "ax1.set_yscale('log')\n",
    "ax1.set_ylim(50, 1100000)  # Adjust the limits if necessary\n"
   ]
  },
  {
   "cell_type": "code",
   "execution_count": 16,
   "id": "bdd58d8a",
   "metadata": {},
   "outputs": [],
   "source": [
    "# Create the secondary y-axis for the Median Rent\n",
    "ax2 = ax1.twinx()\n"
   ]
  },
  {
   "cell_type": "code",
   "execution_count": 17,
   "id": "ff29d29d",
   "metadata": {},
   "outputs": [],
   "source": [
    "# Scatter plot for Median Rent\n",
    "for (borough, color) in zip(melted_rent['Borough'].unique(), colors):\n",
    "    ax2.scatter(melted_rent[melted_rent['Borough'] == borough]['Year'], \n",
    "                melted_rent[melted_rent['Borough'] == borough]['Median Rent'], \n",
    "                s=point_size, c=color, marker='x', alpha=transparency, linewidths=border_width, label=f\"{borough} Median Rent\")\n"
   ]
  },
  {
   "cell_type": "code",
   "execution_count": 18,
   "id": "016613bc",
   "metadata": {},
   "outputs": [
    {
     "data": {
      "text/plain": [
       "Text(0.5, 1.0, 'Total Rentals and Median Rent Comparison')"
      ]
     },
     "execution_count": 18,
     "metadata": {},
     "output_type": "execute_result"
    }
   ],
   "source": [
    "# Set labels and titles\n",
    "ax2.set_ylabel('Median Rent', color='orange')  # Set label for the y2 axis\n",
    "ax1.set_title('Total Rentals and Median Rent Comparison')\n"
   ]
  },
  {
   "cell_type": "code",
   "execution_count": 19,
   "id": "58d1f54c",
   "metadata": {},
   "outputs": [
    {
     "data": {
      "text/plain": [
       "<matplotlib.legend.Legend at 0x15267d3d0>"
      ]
     },
     "execution_count": 19,
     "metadata": {},
     "output_type": "execute_result"
    }
   ],
   "source": [
    "# Optional: Create a legend or separate legends if you prefer\n",
    "ax1.legend(loc='upper left')\n",
    "ax2.legend(loc='upper right')\n"
   ]
  },
  {
   "cell_type": "code",
   "execution_count": 20,
   "id": "311b5286",
   "metadata": {},
   "outputs": [],
   "source": [
    "# Finally, show the plot\n",
    "plt.show()"
   ]
  }
 ],
 "metadata": {
  "kernelspec": {
   "display_name": "Python 3 (ipykernel)",
   "language": "python",
   "name": "python3"
  },
  "language_info": {
   "codemirror_mode": {
    "name": "ipython",
    "version": 3
   },
   "file_extension": ".py",
   "mimetype": "text/x-python",
   "name": "python",
   "nbconvert_exporter": "python",
   "pygments_lexer": "ipython3",
   "version": "3.11.5"
  }
 },
 "nbformat": 4,
 "nbformat_minor": 5
}
