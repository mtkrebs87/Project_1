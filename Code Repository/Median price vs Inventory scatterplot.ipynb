{
 "cells": [
  {
   "cell_type": "code",
   "execution_count": 1,
   "id": "853d8c93",
   "metadata": {},
   "outputs": [],
   "source": [
    "import pandas as pd\n",
    "import matplotlib.pyplot as plt\n",
    "import os"
   ]
  },
  {
   "cell_type": "code",
   "execution_count": 29,
   "id": "42e82988",
   "metadata": {},
   "outputs": [],
   "source": [
    "# Load the two CSV files into DataFrames\n",
    "rental_inventory_df = pd.read_csv('../Data File Repository/Rental_Inventory_DF.csv')\n",
    "yearly_median_rent_df = pd.read_csv('../Data File Repository/Yearly_Median_Rent_DF.csv')\n"
   ]
  },
  {
   "cell_type": "code",
   "execution_count": null,
   "id": "465a23a6",
   "metadata": {},
   "outputs": [],
   "source": [
    "# Rename columns in rental_inventory_df\n",
    "rental_inventory_columns = {'Borough': 'Borough'}\n",
    "rental_inventory_columns.update({\n",
    "    str(year): f\"{year} Total Rentals\" for year in range(2010, 2024)\n",
    "})\n",
    "rental_inventory_df.rename(columns=rental_inventory_columns, inplace=True)\n"
   ]
  },
  {
   "cell_type": "code",
   "execution_count": null,
   "id": "ff70071f",
   "metadata": {},
   "outputs": [],
   "source": [
    "# Rename columns in yearly_median_rent_df\n",
    "yearly_median_rent_columns = {'Borough': 'Borough'}\n",
    "yearly_median_rent_columns.update({\n",
    "    str(year): f\"{year} Median Rent\" for year in range(2010, 2024)\n",
    "})\n",
    "yearly_median_rent_df.rename(columns=yearly_median_rent_columns, inplace=True)\n"
   ]
  },
  {
   "cell_type": "code",
   "execution_count": null,
   "id": "f9f9fecf",
   "metadata": {},
   "outputs": [],
   "source": [
    "# Combine the two DataFrames into a single DataFrame on 'Borough'\n",
    "combined_df = pd.merge(rental_inventory_df, yearly_median_rent_df, on='Borough')\n"
   ]
  },
  {
   "cell_type": "code",
   "execution_count": null,
   "id": "d1f41968",
   "metadata": {},
   "outputs": [],
   "source": [
    "# Define new column order\n",
    "new_order = ['Borough']\n",
    "for year in range(2010, 2024):\n",
    "    new_order.extend([f\"{year} Total Rentals\", f\"{year} Median Rent\"])\n"
   ]
  },
  {
   "cell_type": "code",
   "execution_count": null,
   "id": "b78c7f7d",
   "metadata": {},
   "outputs": [],
   "source": [
    "# Reorder columns based on the new order\n",
    "combined_df = combined_df[new_order]\n"
   ]
  },
  {
   "cell_type": "code",
   "execution_count": null,
   "id": "308f2237",
   "metadata": {},
   "outputs": [],
   "source": [
    "# Print the resulting DataFrame for debugging purposes\n",
    "print(\"combined_df:\\n\", combined_df.head())"
   ]
  },
  {
   "cell_type": "code",
   "execution_count": null,
   "id": "b2261069",
   "metadata": {},
   "outputs": [],
   "source": [
    "# Save the DataFrame as a CSV file in the \"Data File Repository\" directory one level up\n",
    "output_folder = '../Data File Repository'\n",
    "output_file_path = os.path.join(output_folder, 'Combined_Rental_Median_Price_Inventory.csv')\n",
    "os.makedirs(output_folder, exist_ok=True)  # Create the folder if it doesn't exist\n",
    "combined_df.to_csv(output_file_path, index=False)\n"
   ]
  },
  {
   "cell_type": "code",
   "execution_count": null,
   "id": "32b12950",
   "metadata": {},
   "outputs": [],
   "source": [
    "# Create two separate DataFrames for Total Rentals and Median Rent\n",
    "melted_inventory = combined_df.melt(id_vars=['Borough'], value_vars=[f\"{year} Total Rentals\" for year in range(2010, 2024)], var_name='Year', value_name='Total Rentals')\n",
    "melted_rent = combined_df.melt(id_vars=['Borough'], value_vars=[f\"{year} Median Rent\" for year in range(2010, 2024)], var_name='Year', value_name='Median Rent')\n"
   ]
  },
  {
   "cell_type": "code",
   "execution_count": null,
   "id": "ef398467",
   "metadata": {},
   "outputs": [],
   "source": [
    "# Clean up the Median Rent column and convert to float\n",
    "melted_rent['Median Rent'] = melted_rent['Median Rent'].replace('[\\$,]', '', regex=True).astype(float)\n"
   ]
  },
  {
   "cell_type": "code",
   "execution_count": null,
   "id": "29ce51af",
   "metadata": {},
   "outputs": [],
   "source": [
    "# Convert 'Year' from '2010 Total Rentals' to '2010' and to int for plotting\n",
    "melted_inventory['Year'] = melted_inventory['Year'].str.split(' ').str[0].astype(int)\n",
    "melted_rent['Year'] = melted_rent['Year'].str.split(' ').str[0].astype(int)\n"
   ]
  },
  {
   "cell_type": "code",
   "execution_count": null,
   "id": "2794a46c",
   "metadata": {},
   "outputs": [],
   "source": [
    "# Create a figure and a single subplot\n",
    "fig, ax1 = plt.subplots(figsize=(14, 7))\n"
   ]
  },
  {
   "cell_type": "code",
   "execution_count": null,
   "id": "409373d0",
   "metadata": {},
   "outputs": [],
   "source": [
    "# Scatter plot for Total Rentals with manually set parameters\n",
    "colors = ['blue', 'green', 'red', 'purple', 'orange']\n",
    "point_size = 50\n",
    "transparency = 0.8\n",
    "border_width = 0.8\n",
    "border_color = 'black'\n",
    "\n",
    "for (borough, color) in zip(melted_inventory['Borough'].unique(), colors):\n",
    "    ax1.scatter(melted_inventory[melted_inventory['Borough'] == borough]['Year'], \n",
    "                melted_inventory[melted_inventory['Borough'] == borough]['Total Rentals'], \n",
    "                s=point_size, c=color, alpha=transparency, linewidths=border_width, edgecolors=border_color, label=f\"{borough} Total Rentals\")\n"
   ]
  },
  {
   "cell_type": "code",
   "execution_count": null,
   "id": "1c60a685",
   "metadata": {},
   "outputs": [],
   "source": [
    "# Set Y-axis to logarithmic scale\n",
    "ax1.set_yscale('log')\n",
    "ax1.set_ylim(50, 1100000)  # Adjust the limits if necessary\n"
   ]
  },
  {
   "cell_type": "code",
   "execution_count": null,
   "id": "abdfecea",
   "metadata": {},
   "outputs": [],
   "source": [
    "# Create another axis for the Median Rent with manually set parameters\n",
    "ax2 = ax1.twinx()\n",
    "for (borough, color) in zip(melted_rent['Borough'].unique(), colors):\n",
    "    ax2.scatter(melted_rent[melted_rent['Borough'] == borough]['Year'], \n",
    "                melted_rent[melted_rent['Borough'] == borough]['Median Rent'], \n",
    "                s=point_size, c=color, marker='x', alpha=transparency, linewidths=border_width, edgecolors=border_color, label=f\"{borough} Median Rent\")\n"
   ]
  },
  {
   "cell_type": "code",
   "execution_count": null,
   "id": "e4656945",
   "metadata": {},
   "outputs": [],
   "source": [
    "# Labels and titles\n",
    "ax1.set_xlabel('Year')\n",
    "ax1.set_ylabel('Total Rentals (Log Scale)', color='blue')\n",
    "ax2.set_ylabel('Median Rent', color='orange')\n",
    "ax1.set_title('Total Rentals"
   ]
  }
 ],
 "metadata": {
  "kernelspec": {
   "display_name": "Python 3 (ipykernel)",
   "language": "python",
   "name": "python3"
  },
  "language_info": {
   "codemirror_mode": {
    "name": "ipython",
    "version": 3
   },
   "file_extension": ".py",
   "mimetype": "text/x-python",
   "name": "python",
   "nbconvert_exporter": "python",
   "pygments_lexer": "ipython3",
   "version": "3.11.5"
  }
 },
 "nbformat": 4,
 "nbformat_minor": 5
}
