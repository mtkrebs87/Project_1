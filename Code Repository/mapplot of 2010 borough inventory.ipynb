{
 "cells": [
  {
   "cell_type": "code",
   "execution_count": 1,
   "id": "57b4e519",
   "metadata": {},
   "outputs": [],
   "source": [
    "import pandas as pd\n",
    "import geopandas as gpd\n",
    "import matplotlib.pyplot as plt\n",
    "import re\n",
    "from shapely.geometry import Point"
   ]
  },
  {
   "cell_type": "code",
   "execution_count": 2,
   "id": "bf8b0a90",
   "metadata": {},
   "outputs": [],
   "source": [
    "# Load rental inventory data\n",
    "inventory_data = pd.read_csv('../Data File Repository/Rental_Inventory_DF.csv')\n",
    "\n",
    "# Load latitude and longitude data for boroughs\n",
    "latlon_data = pd.read_csv('../Data File Repository/LatLon of boroughs - Sheet1.csv')\n",
    "\n"
   ]
  },
  {
   "cell_type": "code",
   "execution_count": 3,
   "id": "9203866e",
   "metadata": {},
   "outputs": [],
   "source": [
    "# Merge the two DataFrames based on the 'Borough' column\n",
    "merged_data = pd.merge(inventory_data, latlon_data, on='Borough')\n"
   ]
  },
  {
   "cell_type": "code",
   "execution_count": 4,
   "id": "a1a2c39f",
   "metadata": {},
   "outputs": [],
   "source": [
    "# Define a custom function to clean and convert latitude and longitude values\n",
    "def dms2dd(degrees, minutes, seconds, direction):\n",
    "    dd = float(degrees) + float(minutes)/60 + float(seconds)/(60*60);\n",
    "    if direction in ['S', 'W']:\n",
    "        dd *= -1\n",
    "    return dd;\n",
    "\n",
    "def clean_and_convert(dms):\n",
    "    # Strip any leading/trailing whitespace from the input string\n",
    "    dms = dms.strip()\n",
    "    # Split the string on space and non-digit characters, assuming that degrees, minutes, and seconds are separated by non-digits\n",
    "    parts = re.split(r'[^\\d\\.]+', dms)\n",
    "    # Filter out any empty strings in case of multiple separators\n",
    "    parts = list(filter(lambda x: x, parts))\n",
    "    if len(parts) >= 3:\n",
    "        degrees, minutes, seconds = parts[:3]\n",
    "        # Determine direction based on original string (W for Longitude, N for Latitude)\n",
    "        direction = 'W' if 'W' in dms else 'N'\n",
    "        return dms2dd(degrees, minutes, seconds, direction)\n",
    "    else:\n",
    "        raise ValueError(f\"Invalid DMS value: {dms}\")\n"
   ]
  },
  {
   "cell_type": "code",
   "execution_count": 5,
   "id": "86db7fe7",
   "metadata": {},
   "outputs": [],
   "source": [
    "# Convert columns with clean_and_convert\n",
    "merged_data['Longitude'] = merged_data['Longitude'].apply(clean_and_convert)\n",
    "merged_data['Latitude'] = merged_data['Latitude'].apply(clean_and_convert)\n"
   ]
  },
  {
   "cell_type": "code",
   "execution_count": 6,
   "id": "f2c410ef",
   "metadata": {},
   "outputs": [],
   "source": [
    "# Create a GeoDataFrame from the merged DataFrame by converting the latitude and longitude to Points\n",
    "geometry = [Point(xy) for xy in zip(merged_data['Longitude'], merged_data['Latitude'])]\n",
    "gdf = gpd.GeoDataFrame(merged_data, geometry=geometry)\n"
   ]
  },
  {
   "cell_type": "code",
   "execution_count": 7,
   "id": "faccff46",
   "metadata": {},
   "outputs": [],
   "source": [
    "# Load NYC borough boundaries shapefile\n",
    "nyc_boroughs = gpd.read_file('../Data File Repository/Borough Boundaries')\n"
   ]
  },
  {
   "cell_type": "code",
   "execution_count": 8,
   "id": "e504697f",
   "metadata": {},
   "outputs": [
    {
     "data": {
      "text/html": [
       "<div>\n",
       "<style scoped>\n",
       "    .dataframe tbody tr th:only-of-type {\n",
       "        vertical-align: middle;\n",
       "    }\n",
       "\n",
       "    .dataframe tbody tr th {\n",
       "        vertical-align: top;\n",
       "    }\n",
       "\n",
       "    .dataframe thead th {\n",
       "        text-align: right;\n",
       "    }\n",
       "</style>\n",
       "<table border=\"1\" class=\"dataframe\">\n",
       "  <thead>\n",
       "    <tr style=\"text-align: right;\">\n",
       "      <th></th>\n",
       "      <th>Borough</th>\n",
       "      <th>2010</th>\n",
       "      <th>2011</th>\n",
       "      <th>2012</th>\n",
       "      <th>2013</th>\n",
       "      <th>2014</th>\n",
       "      <th>2015</th>\n",
       "      <th>2016</th>\n",
       "      <th>2017</th>\n",
       "      <th>2018</th>\n",
       "      <th>2019</th>\n",
       "      <th>2020</th>\n",
       "      <th>2021</th>\n",
       "      <th>2022</th>\n",
       "      <th>2023</th>\n",
       "      <th>Latitude</th>\n",
       "      <th>Longitude</th>\n",
       "      <th>geometry</th>\n",
       "    </tr>\n",
       "  </thead>\n",
       "  <tbody>\n",
       "    <tr>\n",
       "      <th>0</th>\n",
       "      <td>Bronx</td>\n",
       "      <td>3087</td>\n",
       "      <td>3674</td>\n",
       "      <td>5419</td>\n",
       "      <td>5462</td>\n",
       "      <td>10815</td>\n",
       "      <td>17510</td>\n",
       "      <td>19086</td>\n",
       "      <td>19836</td>\n",
       "      <td>20977</td>\n",
       "      <td>24007</td>\n",
       "      <td>17403</td>\n",
       "      <td>21560</td>\n",
       "      <td>22666</td>\n",
       "      <td>18069</td>\n",
       "      <td>40.849850</td>\n",
       "      <td>73.866411</td>\n",
       "      <td>POINT (73.86641 40.84985)</td>\n",
       "    </tr>\n",
       "    <tr>\n",
       "      <th>1</th>\n",
       "      <td>Brooklyn</td>\n",
       "      <td>59006</td>\n",
       "      <td>65757</td>\n",
       "      <td>83105</td>\n",
       "      <td>136910</td>\n",
       "      <td>275336</td>\n",
       "      <td>393622</td>\n",
       "      <td>420765</td>\n",
       "      <td>523610</td>\n",
       "      <td>548214</td>\n",
       "      <td>487618</td>\n",
       "      <td>629297</td>\n",
       "      <td>580416</td>\n",
       "      <td>359197</td>\n",
       "      <td>296376</td>\n",
       "      <td>40.650100</td>\n",
       "      <td>73.949581</td>\n",
       "      <td>POINT (73.94958 40.65010)</td>\n",
       "    </tr>\n",
       "    <tr>\n",
       "      <th>2</th>\n",
       "      <td>Manhattan</td>\n",
       "      <td>441207</td>\n",
       "      <td>395231</td>\n",
       "      <td>456434</td>\n",
       "      <td>576566</td>\n",
       "      <td>697721</td>\n",
       "      <td>752606</td>\n",
       "      <td>806772</td>\n",
       "      <td>807096</td>\n",
       "      <td>713479</td>\n",
       "      <td>675302</td>\n",
       "      <td>1013629</td>\n",
       "      <td>806908</td>\n",
       "      <td>506199</td>\n",
       "      <td>481479</td>\n",
       "      <td>40.783431</td>\n",
       "      <td>73.966250</td>\n",
       "      <td>POINT (73.96625 40.78343)</td>\n",
       "    </tr>\n",
       "    <tr>\n",
       "      <th>3</th>\n",
       "      <td>Queens</td>\n",
       "      <td>19596</td>\n",
       "      <td>18369</td>\n",
       "      <td>30753</td>\n",
       "      <td>40171</td>\n",
       "      <td>89093</td>\n",
       "      <td>121867</td>\n",
       "      <td>140332</td>\n",
       "      <td>195872</td>\n",
       "      <td>186911</td>\n",
       "      <td>177469</td>\n",
       "      <td>205331</td>\n",
       "      <td>232639</td>\n",
       "      <td>146431</td>\n",
       "      <td>113475</td>\n",
       "      <td>40.681489</td>\n",
       "      <td>73.836519</td>\n",
       "      <td>POINT (73.83652 40.68149)</td>\n",
       "    </tr>\n",
       "    <tr>\n",
       "      <th>4</th>\n",
       "      <td>Staten Island</td>\n",
       "      <td>55</td>\n",
       "      <td>57</td>\n",
       "      <td>139</td>\n",
       "      <td>331</td>\n",
       "      <td>522</td>\n",
       "      <td>925</td>\n",
       "      <td>1041</td>\n",
       "      <td>982</td>\n",
       "      <td>1031</td>\n",
       "      <td>812</td>\n",
       "      <td>481</td>\n",
       "      <td>627</td>\n",
       "      <td>925</td>\n",
       "      <td>742</td>\n",
       "      <td>40.562331</td>\n",
       "      <td>74.139861</td>\n",
       "      <td>POINT (74.13986 40.56233)</td>\n",
       "    </tr>\n",
       "  </tbody>\n",
       "</table>\n",
       "</div>"
      ],
      "text/plain": [
       "         Borough    2010    2011    2012    2013    2014    2015    2016  \\\n",
       "0          Bronx    3087    3674    5419    5462   10815   17510   19086   \n",
       "1       Brooklyn   59006   65757   83105  136910  275336  393622  420765   \n",
       "2      Manhattan  441207  395231  456434  576566  697721  752606  806772   \n",
       "3         Queens   19596   18369   30753   40171   89093  121867  140332   \n",
       "4  Staten Island      55      57     139     331     522     925    1041   \n",
       "\n",
       "     2017    2018    2019     2020    2021    2022    2023   Latitude  \\\n",
       "0   19836   20977   24007    17403   21560   22666   18069  40.849850   \n",
       "1  523610  548214  487618   629297  580416  359197  296376  40.650100   \n",
       "2  807096  713479  675302  1013629  806908  506199  481479  40.783431   \n",
       "3  195872  186911  177469   205331  232639  146431  113475  40.681489   \n",
       "4     982    1031     812      481     627     925     742  40.562331   \n",
       "\n",
       "   Longitude                   geometry  \n",
       "0  73.866411  POINT (73.86641 40.84985)  \n",
       "1  73.949581  POINT (73.94958 40.65010)  \n",
       "2  73.966250  POINT (73.96625 40.78343)  \n",
       "3  73.836519  POINT (73.83652 40.68149)  \n",
       "4  74.139861  POINT (74.13986 40.56233)  "
      ]
     },
     "execution_count": 8,
     "metadata": {},
     "output_type": "execute_result"
    }
   ],
   "source": [
    "# Make sure both GeoDataFrames use the same CRS\n",
    "gdf.set_crs(nyc_boroughs.crs, inplace=True)\n"
   ]
  },
  {
   "cell_type": "code",
   "execution_count": 16,
   "id": "d07cddf4",
   "metadata": {},
   "outputs": [
    {
     "name": "stdout",
     "output_type": "stream",
     "text": [
      "GEOGCS[\"WGS84(DD)\",DATUM[\"WGS84\",SPHEROID[\"WGS84\",6378137,298.257223563]],PRIMEM[\"Greenwich\",0],UNIT[\"degree\",0.0174532925199433],AXIS[\"Longitude\",EAST],AXIS[\"Latitude\",NORTH]]\n",
      "GEOGCS[\"WGS84(DD)\",DATUM[\"WGS84\",SPHEROID[\"WGS84\",6378137,298.257223563]],PRIMEM[\"Greenwich\",0],UNIT[\"degree\",0.0174532925199433],AXIS[\"Longitude\",EAST],AXIS[\"Latitude\",NORTH]]\n"
     ]
    }
   ],
   "source": [
    "# Check if the CRS match after setting them\n",
    "print(gdf.crs)\n",
    "print(nyc_boroughs.crs)\n"
   ]
  },
  {
   "cell_type": "code",
   "execution_count": 17,
   "id": "dd2259f4",
   "metadata": {},
   "outputs": [],
   "source": [
    "# After setting the CRS and before plotting, check the marker sizes\n",
    "marker_size = merged_data['2010'].copy()  # Assuming '2010' column contains inventory totals\n"
   ]
  },
  {
   "cell_type": "code",
   "execution_count": 18,
   "id": "f1c486e4",
   "metadata": {},
   "outputs": [
    {
     "name": "stdout",
     "output_type": "stream",
     "text": [
      "Max marker size: 100.0\n"
     ]
    }
   ],
   "source": [
    "# Adjust marker_size here if necessary, for example:\n",
    "marker_size = marker_size / marker_size.max() * 100  # Normalizing and scaling\n",
    "\n",
    "print(\"Max marker size:\", marker_size.max())\n"
   ]
  },
  {
   "cell_type": "code",
   "execution_count": 19,
   "id": "46a9e6d7",
   "metadata": {},
   "outputs": [
    {
     "data": {
      "text/plain": [
       "<matplotlib.collections.PathCollection at 0x157f3c890>"
      ]
     },
     "execution_count": 19,
     "metadata": {},
     "output_type": "execute_result"
    },
    {
     "data": {
      "image/png": "[encoded data removed]",
      "text/plain": [
       "<Figure size 1000x1000 with 1 Axes>"
      ]
     },
     "metadata": {},
     "output_type": "display_data"
    }
   ],
   "source": [
    "# Plot the NYC borough boundaries\n",
    "fig, ax = plt.subplots(figsize=(10, 10))\n",
    "nyc_boroughs.plot(ax=ax, edgecolor='k', color='none')\n",
    "\n",
    "# Plot the points using scatter, ensure that the points are converted to the right CRS if necessary\n",
    "ax.scatter(merged_data['Longitude'], merged_data['Latitude'], s=marker_size, alpha=0.5, color='red')\n"
   ]
  },
  {
   "cell_type": "code",
   "execution_count": 20,
   "id": "55aea098",
   "metadata": {},
   "outputs": [
    {
     "data": {
      "text/plain": [
       "(40.496133987611834, 40.91553277650267)"
      ]
     },
     "execution_count": 20,
     "metadata": {},
     "output_type": "execute_result"
    }
   ],
   "source": [
    "# Set the axis limits if necessary\n",
    "ax.set_xlim(nyc_boroughs.total_bounds[[0, 2]])\n",
    "ax.set_ylim(nyc_boroughs.total_bounds[[1, 3]])\n",
    "\n"
   ]
  },
  {
   "cell_type": "code",
   "execution_count": 21,
   "id": "a13c5e06",
   "metadata": {},
   "outputs": [
    {
     "data": {
      "text/plain": [
       "Text(0, 0.5, 'Latitude')"
      ]
     },
     "execution_count": 21,
     "metadata": {},
     "output_type": "execute_result"
    },
    {
     "data": {
      "image/png": "[encoded data removed]",
      "text/plain": [
       "<Figure size 640x480 with 1 Axes>"
      ]
     },
     "metadata": {},
     "output_type": "display_data"
    }
   ],
   "source": [
    "# Customize the plot\n",
    "plt.title('Rental Inventory Totals for 2010 by Borough')\n",
    "plt.xlabel('Longitude')\n",
    "plt.ylabel('Latitude')"
   ]
  },
  {
   "cell_type": "code",
   "execution_count": 15,
   "id": "60b40b25",
   "metadata": {},
   "outputs": [
    {
     "data": {
      "text/plain": [
       "<Figure size 640x480 with 0 Axes>"
      ]
     },
     "metadata": {},
     "output_type": "display_data"
    }
   ],
   "source": [
    "# Save and display the plot\n",
    "plt.savefig('rental_inventory_map.png', dpi=300)\n",
    "plt.show()"
   ]
  }
 ],
 "metadata": {
  "kernelspec": {
   "display_name": "Python 3 (ipykernel)",
   "language": "python",
   "name": "python3"
  },
  "language_info": {
   "codemirror_mode": {
    "name": "ipython",
    "version": 3
   },
   "file_extension": ".py",
   "mimetype": "text/x-python",
   "name": "python",
   "nbconvert_exporter": "python",
   "pygments_lexer": "ipython3",
   "version": "3.11.5"
  }
 },
 "nbformat": 4,
 "nbformat_minor": 5
}
