{
 "cells": [
  {
   "cell_type": "code",
   "execution_count": 48,
   "id": "e4281d00",
   "metadata": {},
   "outputs": [],
   "source": [
    "import pandas as pd\n",
    "import matplotlib.pyplot as plt\n",
    "from sklearn.linear_model import LinearRegression\n",
    "import numpy as np\n",
    "import os"
   ]
  },
  {
   "cell_type": "code",
   "execution_count": 49,
   "id": "48a2dbcd",
   "metadata": {},
   "outputs": [],
   "source": [
    "# Check if output directory exists, if not, create it\n",
    "output_directory = '../Charts and Graphs Output'\n",
    "os.makedirs(output_directory, exist_ok=True)\n"
   ]
  },
  {
   "cell_type": "code",
   "execution_count": 41,
   "id": "ea1f8e05",
   "metadata": {},
   "outputs": [],
   "source": [
    "# Load dataset\n",
    "df = pd.read_csv('../Data File Repository/Combined_Rental_Median_Price_Inventory.csv')\n"
   ]
  },
  {
   "cell_type": "code",
   "execution_count": 42,
   "id": "526d3f6c",
   "metadata": {},
   "outputs": [],
   "source": [
    "# Preprocess data: Melt and create a year column\n",
    "df = df.melt(id_vars=['Borough'], var_name='Year_Rentals', value_name='Value')\n",
    "df[['Year', 'Type']] = df['Year_Rentals'].str.extract('(\\d{4}) (Total Rentals|Median Rent)')\n",
    "df.drop('Year_Rentals', axis=1, inplace=True)\n",
    "df['Year'] = pd.to_numeric(df['Year'])\n",
    "df['Value'] = pd.to_numeric(df['Value'].replace('[\\$,]', '', regex=True), errors='coerce')\n"
   ]
  },
  {
   "cell_type": "code",
   "execution_count": 43,
   "id": "0a9e6661",
   "metadata": {},
   "outputs": [],
   "source": [
    "# Separate into two DataFrames for Total Rentals and Median Rent\n",
    "df_rentals = df[df['Type'] == 'Total Rentals'].drop('Type', axis=1)\n",
    "df_median = df[df['Type'] == 'Median Rent'].drop('Type', axis=1)\n"
   ]
  },
  {
   "cell_type": "code",
   "execution_count": 53,
   "id": "ddea50fb",
   "metadata": {},
   "outputs": [],
   "source": [
    "# Iterate over each borough to create separate charts\n",
    "for borough in df['Borough'].unique():\n",
    "    # Start a new figure for each borough\n",
    "    fig, ax = plt.subplots(figsize=(10, 6))\n",
    "\n",
    "    # Process data for Total Rentals up to 2019\n",
    "    borough_rentals = df_rentals[df_rentals['Borough'] == borough]\n",
    "    X = borough_rentals[borough_rentals['Year'] <= 2019][['Year']]\n",
    "    y = borough_rentals[borough_rentals['Year'] <= 2019]['Value']\n",
    "    model = LinearRegression().fit(X, y)\n",
    "    X_predict = pd.DataFrame({'Year': range(2010, 2020)}) # Predict from 2010 to 2019 for trend line\n",
    "    y_predict = model.predict(X_predict)\n",
    "    \n",
    "    # Plotting the trend line\n",
    "    ax.plot(X_predict['Year'], y_predict, color='green', linestyle='-', linewidth=2, label='Trend (Total Rentals)')\n",
    "\n",
    "    # Plot all actual data for Total Rentals\n",
    "    ax.scatter(borough_rentals['Year'], borough_rentals['Value'], color='blue', label='Actual (Total Rentals)')\n",
    "\n",
    "    # Process and plot data for Median Rent\n",
    "    borough_median = df_median[df_median['Borough'] == borough]\n",
    "    X_median = borough_median['Year']\n",
    "    y_median = borough_median['Value']\n",
    "    ax.plot(X_median, y_median, color='purple', linestyle='--', linewidth=2, label='Actual Median Rent')\n",
    "\n",
    "    # Setting title and labels for the plot\n",
    "    ax.set_title(f'{borough} Rentals Data (With Projection from Pre-Covid and Actual)')\n",
    "    ax.set_xlabel('Year')\n",
    "    ax.set_ylabel('Values')\n",
    "    ax.legend()\n",
    "\n",
    "    # Save the figure to the specified directory\n",
    "    plt.savefig(f\"{output_directory}/{borough}_rental_inventory_Chart_projection_pre_covid.png\")\n",
    "\n",
    "    # Close the figure to free memory\n",
    "    plt.close(fig)"
   ]
  },
  {
   "cell_type": "code",
   "execution_count": null,
   "id": "91c6c8b6",
   "metadata": {},
   "outputs": [],
   "source": []
  }
 ],
 "metadata": {
  "kernelspec": {
   "display_name": "Python 3 (ipykernel)",
   "language": "python",
   "name": "python3"
  },
  "language_info": {
   "codemirror_mode": {
    "name": "ipython",
    "version": 3
   },
   "file_extension": ".py",
   "mimetype": "text/x-python",
   "name": "python",
   "nbconvert_exporter": "python",
   "pygments_lexer": "ipython3",
   "version": "3.11.5"
  }
 },
 "nbformat": 4,
 "nbformat_minor": 5
}
