{
 "cells": [
  {
   "cell_type": "code",
   "execution_count": 1,
   "id": "e4281d00",
   "metadata": {},
   "outputs": [],
   "source": [
    "import pandas as pd\n",
    "import matplotlib\n",
    "matplotlib.use('Agg')\n",
    "import matplotlib.pyplot as plt\n",
    "from sklearn.linear_model import LinearRegression\n",
    "import numpy as np\n",
    "import os"
   ]
  },
  {
   "cell_type": "code",
   "execution_count": 2,
   "id": "a2ade7d9",
   "metadata": {},
   "outputs": [],
   "source": [
    "# Check if output directory exists, if not, create it\n",
    "output_directory = '../Charts and Graphs Output'\n",
    "os.makedirs(output_directory, exist_ok=True)"
   ]
  },
  {
   "cell_type": "code",
   "execution_count": 3,
   "id": "fc3cc051",
   "metadata": {},
   "outputs": [],
   "source": [
    "# Load dataset\n",
    "df = pd.read_csv('../Data File Repository/Combined_Rental_Median_Price_Inventory.csv')\n"
   ]
  },
  {
   "cell_type": "code",
   "execution_count": 4,
   "id": "3bbbac7f",
   "metadata": {},
   "outputs": [],
   "source": [
    "# Preprocess data: Melt and create a year column\n",
    "df = df.melt(id_vars=['Borough'], var_name='Year_Rentals', value_name='Value')\n",
    "df[['Year', 'Type']] = df['Year_Rentals'].str.extract('(\\d{4}) (Total Rentals|Median Rent)')\n",
    "df.drop('Year_Rentals', axis=1, inplace=True)\n",
    "df['Year'] = pd.to_numeric(df['Year'])\n",
    "df['Value'] = pd.to_numeric(df['Value'].replace('[\\$,]', '', regex=True), errors='coerce').fillna(0)\n"
   ]
  },
  {
   "cell_type": "code",
   "execution_count": 5,
   "id": "10f9b755",
   "metadata": {},
   "outputs": [],
   "source": [
    "# Replace or remove any zero or negative values before taking log\n",
    "df = df[df['Value'] > 0]\n"
   ]
  },
  {
   "cell_type": "code",
   "execution_count": 6,
   "id": "f4c1c285",
   "metadata": {},
   "outputs": [],
   "source": [
    "# Separate into a DataFrame for Total Rentals\n",
    "df_total_rentals = df[df['Type'] == 'Total Rentals'].drop('Type', axis=1)\n"
   ]
  },
  {
   "cell_type": "code",
   "execution_count": 7,
   "id": "93ce7203",
   "metadata": {},
   "outputs": [],
   "source": [
    "# Start a new figure for combined chart\n",
    "fig, ax = plt.subplots(figsize=(12, 8))\n",
    "\n",
    "colors = ['blue', 'green', 'red', 'cyan', 'magenta', 'yellow', 'black']  # Example color list for differentiation\n"
   ]
  },
  {
   "cell_type": "code",
   "execution_count": 8,
   "id": "37612223",
   "metadata": {},
   "outputs": [],
   "source": [
    "# Iterate over each borough to add to the combined chart\n",
    "for index, borough in enumerate(df_total_rentals['Borough'].unique()):\n",
    "    borough_inventory = df_total_rentals[df_total_rentals['Borough'] == borough]\n",
    "    \n",
    "    # Ensure data for regression has no infinity or NaN values\n",
    "    borough_data_for_regression = borough_inventory[borough_inventory['Year'] <= 2019].dropna(subset=['Value'])\n",
    "    \n",
    "    X = borough_data_for_regression[['Year']]\n",
    "    y = np.log(borough_data_for_regression['Value'])  # Taking log of 'Value'\n",
    "\n",
    "    model = LinearRegression()\n",
    "    model.fit(X, y)\n",
    "\n",
    "    X_predict = pd.DataFrame({'Year': range(2010, 2024)})\n",
    "    y_predict = model.predict(X_predict)\n",
    "    y_predict_exp = np.exp(y_predict)  # Converting back from log scale\n",
    "\n",
    "    # Plotting trend line\n",
    "    ax.plot(X_predict['Year'], y_predict_exp, color=colors[index % len(colors)], linestyle='-', linewidth=2, label=f'Projected Inventory ({borough})')\n",
    "    \n",
    "    # Plotting actual data points\n",
    "    actual_data = borough_inventory[borough_inventory['Year'] <= 2023]  # All actual data up to 2023\n",
    "    ax.scatter(actual_data['Year'], actual_data['Value'], color=colors[index % len(colors)], alpha=0.6, edgecolor='black', s=50, label=f'Actual Inventory ({borough})')\n",
    "\n",
    "ax.set_yscale('log')\n",
    "\n",
    "ax.set_title('Total Rental Inventory Across Boroughs (Projection From Pre-COVID and Actual)')\n",
    "ax.set_xlabel('Year')\n",
    "ax.set_ylabel('Total Rentals')\n",
    "\n",
    "# Create a legend with no duplicate labels\n",
    "handles, labels = plt.gca().get_legend_handles_labels()\n",
    "by_label = dict(zip(labels, handles))\n",
    "ax.legend(by_label.values(), by_label.keys(), loc='upper left', bbox_to_anchor=(1, 1))\n",
    "\n",
    "plt.savefig(f\"{output_directory}/Combined_Boroughs_Total_Rentals_Chart.png\", bbox_inches='tight')\n",
    "\n",
    "# Close the figure to free memory\n",
    "plt.close(fig)"
   ]
  }
 ],
 "metadata": {
  "kernelspec": {
   "display_name": "Python 3 (ipykernel)",
   "language": "python",
   "name": "python3"
  },
  "language_info": {
   "codemirror_mode": {
    "name": "ipython",
    "version": 3
   },
   "file_extension": ".py",
   "mimetype": "text/x-python",
   "name": "python",
   "nbconvert_exporter": "python",
   "pygments_lexer": "ipython3",
   "version": "3.11.5"
  }
 },
 "nbformat": 4,
 "nbformat_minor": 5
}
