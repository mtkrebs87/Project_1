{
 "cells": [
  {
   "cell_type": "code",
   "execution_count": 1,
   "id": "dc237e5a",
   "metadata": {},
   "outputs": [],
   "source": [
    "# Import libraries\n",
    "import os\n",
    "import pandas as pd\n",
    "import numpy as np\n",
    "import matplotlib.pyplot as plt\n",
    "\n",
    "# Define the file path to the 'Resources' directory one level up\n",
    "file_path = '../Resources/medianAskingRent_All.csv'\n",
    "\n",
    "\n"
   ]
  },
  {
   "cell_type": "code",
   "execution_count": 2,
   "id": "dc838d6b",
   "metadata": {
    "scrolled": true
   },
   "outputs": [],
   "source": [
    "# Import csv from easystreet with pricing by borough\n",
    "df = pd.read_csv(file_path)\n"
   ]
  },
  {
   "cell_type": "code",
   "execution_count": 3,
   "id": "3096fa52",
   "metadata": {},
   "outputs": [
    {
     "name": "stdout",
     "output_type": "stream",
     "text": [
      "              areaName    Borough      areaType  2010-01  2010-02  2010-03  \\\n",
      "0         All Downtown  Manhattan     submarket   3200.0   3200.0   3020.0   \n",
      "1          All Midtown  Manhattan     submarket   2875.0   2800.0   2800.0   \n",
      "2  All Upper East Side  Manhattan     submarket   2450.0   2450.0   2400.0   \n",
      "3  All Upper Manhattan  Manhattan     submarket   1825.0   1800.0   1795.0   \n",
      "4  All Upper West Side  Manhattan     submarket   2895.0   2800.0   2750.0   \n",
      "5              Astoria     Queens  neighborhood   1600.0   1650.0   1620.0   \n",
      "6           Auburndale     Queens  neighborhood      NaN      NaN      NaN   \n",
      "7           Bath Beach   Brooklyn  neighborhood      NaN      NaN      NaN   \n",
      "8    Battery Park City  Manhattan  neighborhood   3495.0   3346.0   3268.0   \n",
      "9            Bay Ridge   Brooklyn  neighborhood   1350.0   1375.0   1350.0   \n",
      "\n",
      "   2010-04  2010-05  2010-06  2010-07  ...  2022-12  2023-01  2023-02  \\\n",
      "0   3100.0   3100.0   3200.0   3195.0  ...   4800.0   4844.0   4951.0   \n",
      "1   2850.0   2895.0   2950.0   3000.0  ...   4378.0   4390.0   4499.0   \n",
      "2   2500.0   2550.0   2550.0   2595.0  ...   3800.0   3900.0   4000.0   \n",
      "3   1800.0   1823.0   1850.0   1875.0  ...   2600.0   2650.0   2697.0   \n",
      "4   2800.0   2800.0   2795.0   2800.0  ...   4450.0   4450.0   4445.0   \n",
      "5   1600.0   1700.0   1700.0   1600.0  ...   2600.0   2695.0   2695.0   \n",
      "6      NaN      NaN      NaN      NaN  ...      NaN   2450.0   2700.0   \n",
      "7      NaN      NaN      NaN      NaN  ...   1700.0   1750.0   1960.0   \n",
      "8   3295.0   3100.0   3395.0   3200.0  ...   5350.0   5413.0   5695.0   \n",
      "9   1350.0   1350.0   1350.0   1300.0  ...   2200.0   2350.0   2312.0   \n",
      "\n",
      "   2023-03  2023-04  2023-05  2023-06  2023-07  2023-08  2023-09  \n",
      "0   4800.0   4875.0   4950.0   4950.0   4900.0   4850.0   4900.0  \n",
      "1   4495.0   4581.0   4500.0   4500.0   4500.0   4500.0   4500.0  \n",
      "2   3995.0   3970.0   3995.0   4000.0   4000.0   3995.0   4000.0  \n",
      "3   2725.0   2800.0   2838.0   2950.0   2900.0   2900.0   2897.0  \n",
      "4   4495.0   4500.0   4463.0   4400.0   4500.0   4500.0   4500.0  \n",
      "5   2750.0   2750.0   2750.0   2800.0   2888.0   2899.0   2850.0  \n",
      "6   2100.0   2050.0   2275.0   2275.0   2495.0   2937.0   2887.0  \n",
      "7   1982.0   2150.0   2300.0   1900.0   1975.0   2250.0   2350.0  \n",
      "8   5438.0   5500.0   5758.0   5545.0   5999.0   6153.0   5850.0  \n",
      "9   2200.0   2150.0   2200.0   2299.0   2275.0   2388.0   2500.0  \n",
      "\n",
      "[10 rows x 168 columns]\n"
     ]
    }
   ],
   "source": [
    "# Drop the borough entered as NaN\n",
    "df = df.dropna(subset=['Borough'])\n",
    "\n",
    "# Define the list of columns to include (starting from the 4th column)\n",
    "columns_to_include = df.columns[3:]\n",
    "\n",
    "# Convert all columns except 'Borough' to numeric, coerce errors to NaN\n",
    "for col in columns_to_include:\n",
    "    df[col] = pd.to_numeric(df[col], errors='coerce')\n",
    "\n",
    "#print the csv top 10 rows\n",
    "print(df.head(10))"
   ]
  },
  {
   "cell_type": "code",
   "execution_count": 4,
   "id": "9def50f0",
   "metadata": {},
   "outputs": [],
   "source": [
    "# Create a list of all unique boroughs from the \"Borough\" column\n",
    "unique_boroughs = df['Borough'].unique()\n",
    "\n",
    "# Initialize an empty DataFrame to store the results\n",
    "result_data = []\n"
   ]
  },
  {
   "cell_type": "code",
   "execution_count": 5,
   "id": "5f7b24f4",
   "metadata": {
    "scrolled": false
   },
   "outputs": [],
   "source": [
    "# Iterate through each borough\n",
    "for borough in unique_boroughs:\n",
    "    # Select only rows for the current borough\n",
    "    borough_df = df[df['Borough'] == borough]\n",
    "\n",
    "    # For each year, calculate the median of the 12 months\n",
    "    borough_yearly_data = {'Borough': borough}\n",
    "    for year in range(2010, 2024):  # Assuming the data spans from 2010 to 2023\n",
    "        # Create a list of columns for the current year\n",
    "        year_columns = [col for col in columns_to_include if str(year) in col]\n",
    "        # Calculate the median rental price for the current year, excluding NaN values\n",
    "        median_yearly_rent = borough_df[year_columns].median(axis=1, skipna=True).median(skipna=True)\n",
    "        # Add the result to the borough's yearly data\n",
    "        borough_yearly_data[str(year)] = median_yearly_rent\n",
    "\n",
    "    # Append the data to the result list\n",
    "    result_data.append(borough_yearly_data)\n"
   ]
  },
  {
   "cell_type": "code",
   "execution_count": 6,
   "id": "02aae29a",
   "metadata": {},
   "outputs": [],
   "source": [
    "# Create a DataFrame from the list of dictionaries\n",
    "result_df = pd.DataFrame(result_data)\n",
    "\n",
    "# Format the median prices with dollar sign and two decimal places, skipping 'Borough' column\n",
    "for col in result_df.columns[1:]:\n",
    "    result_df[col] = result_df[col].apply(lambda x: \"${:.2f}\".format(x))\n"
   ]
  },
  {
   "cell_type": "code",
   "execution_count": 7,
   "id": "b2ac6c15",
   "metadata": {},
   "outputs": [],
   "source": [
    "# Reset the index of the result DataFrame\n",
    "result_df.reset_index(drop=True, inplace=True)"
   ]
  },
  {
   "cell_type": "code",
   "execution_count": 8,
   "id": "802df330",
   "metadata": {},
   "outputs": [],
   "source": [
    "# Save the DataFrame as a CSV file in the \"Data File Repository\" directory one level up\n",
    "output_folder = '../Data File Repository'\n",
    "output_file_path = os.path.join(output_folder, 'Yearly_Median_Rent_DF.csv')\n",
    "os.makedirs(output_folder, exist_ok=True)  # Create the folder if it doesn't exist\n",
    "result_df.to_csv(output_file_path, index=False)\n",
    "\n"
   ]
  },
  {
   "cell_type": "code",
   "execution_count": 9,
   "id": "e6fd1aa2",
   "metadata": {
    "scrolled": true
   },
   "outputs": [
    {
     "name": "stdout",
     "output_type": "stream",
     "text": [
      "         Borough      2010      2011      2012      2013      2014      2015  \\\n",
      "0      Manhattan  $2847.50  $3157.00  $3275.00  $3282.50  $3270.00  $3394.00   \n",
      "1         Queens  $1538.25  $1550.00  $1825.00  $1743.75  $1799.00  $1850.00   \n",
      "2       Brooklyn  $2033.50  $1743.75  $1900.00  $2106.25  $2225.00  $2300.00   \n",
      "3          Bronx  $1425.00  $1210.75  $1425.00  $1275.00  $1331.50  $1400.00   \n",
      "4  Staten Island      $nan      $nan  $1400.00  $1487.50  $1675.00  $1662.50   \n",
      "\n",
      "       2016      2017      2018      2019      2020      2021      2022  \\\n",
      "0  $3412.50  $3318.00  $3334.50  $3500.00  $3172.50  $3267.50  $4213.00   \n",
      "1  $1937.50  $1993.00  $2000.00  $2010.75  $2025.00  $2004.25  $2300.00   \n",
      "2  $2300.00  $2335.00  $2400.00  $2450.00  $2475.00  $2256.00  $2847.50   \n",
      "3  $1552.00  $1695.00  $1800.00  $1829.00  $1850.00  $1851.00  $1985.00   \n",
      "4  $1990.00  $1921.50  $1865.00  $2022.50  $1925.00  $1975.00  $2050.00   \n",
      "\n",
      "       2023  \n",
      "0  $4471.50  \n",
      "1  $2500.00  \n",
      "2  $3125.00  \n",
      "3  $2191.00  \n",
      "4  $2095.00  \n"
     ]
    }
   ],
   "source": [
    "# Print the new dataframe\n",
    "print(result_df)\n"
   ]
  },
  {
   "cell_type": "code",
   "execution_count": 10,
   "id": "56398fff",
   "metadata": {},
   "outputs": [
    {
     "data": {
      "text/html": [
       "<div>\n",
       "<style scoped>\n",
       "    .dataframe tbody tr th:only-of-type {\n",
       "        vertical-align: middle;\n",
       "    }\n",
       "\n",
       "    .dataframe tbody tr th {\n",
       "        vertical-align: top;\n",
       "    }\n",
       "\n",
       "    .dataframe thead th {\n",
       "        text-align: right;\n",
       "    }\n",
       "</style>\n",
       "<table border=\"1\" class=\"dataframe\">\n",
       "  <thead>\n",
       "    <tr style=\"text-align: right;\">\n",
       "      <th></th>\n",
       "      <th>Borough</th>\n",
       "      <th>2010</th>\n",
       "      <th>2011</th>\n",
       "      <th>2012</th>\n",
       "      <th>2013</th>\n",
       "      <th>2014</th>\n",
       "      <th>2015</th>\n",
       "      <th>2016</th>\n",
       "      <th>2017</th>\n",
       "      <th>2018</th>\n",
       "      <th>2019</th>\n",
       "      <th>2020</th>\n",
       "      <th>2021</th>\n",
       "      <th>2022</th>\n",
       "      <th>2023</th>\n",
       "    </tr>\n",
       "  </thead>\n",
       "  <tbody>\n",
       "    <tr>\n",
       "      <th>0</th>\n",
       "      <td>Manhattan</td>\n",
       "      <td>$2847.50</td>\n",
       "      <td>$3157.00</td>\n",
       "      <td>$3275.00</td>\n",
       "      <td>$3282.50</td>\n",
       "      <td>$3270.00</td>\n",
       "      <td>$3394.00</td>\n",
       "      <td>$3412.50</td>\n",
       "      <td>$3318.00</td>\n",
       "      <td>$3334.50</td>\n",
       "      <td>$3500.00</td>\n",
       "      <td>$3172.50</td>\n",
       "      <td>$3267.50</td>\n",
       "      <td>$4213.00</td>\n",
       "      <td>$4471.50</td>\n",
       "    </tr>\n",
       "    <tr>\n",
       "      <th>1</th>\n",
       "      <td>Queens</td>\n",
       "      <td>$1538.25</td>\n",
       "      <td>$1550.00</td>\n",
       "      <td>$1825.00</td>\n",
       "      <td>$1743.75</td>\n",
       "      <td>$1799.00</td>\n",
       "      <td>$1850.00</td>\n",
       "      <td>$1937.50</td>\n",
       "      <td>$1993.00</td>\n",
       "      <td>$2000.00</td>\n",
       "      <td>$2010.75</td>\n",
       "      <td>$2025.00</td>\n",
       "      <td>$2004.25</td>\n",
       "      <td>$2300.00</td>\n",
       "      <td>$2500.00</td>\n",
       "    </tr>\n",
       "    <tr>\n",
       "      <th>2</th>\n",
       "      <td>Brooklyn</td>\n",
       "      <td>$2033.50</td>\n",
       "      <td>$1743.75</td>\n",
       "      <td>$1900.00</td>\n",
       "      <td>$2106.25</td>\n",
       "      <td>$2225.00</td>\n",
       "      <td>$2300.00</td>\n",
       "      <td>$2300.00</td>\n",
       "      <td>$2335.00</td>\n",
       "      <td>$2400.00</td>\n",
       "      <td>$2450.00</td>\n",
       "      <td>$2475.00</td>\n",
       "      <td>$2256.00</td>\n",
       "      <td>$2847.50</td>\n",
       "      <td>$3125.00</td>\n",
       "    </tr>\n",
       "    <tr>\n",
       "      <th>3</th>\n",
       "      <td>Bronx</td>\n",
       "      <td>$1425.00</td>\n",
       "      <td>$1210.75</td>\n",
       "      <td>$1425.00</td>\n",
       "      <td>$1275.00</td>\n",
       "      <td>$1331.50</td>\n",
       "      <td>$1400.00</td>\n",
       "      <td>$1552.00</td>\n",
       "      <td>$1695.00</td>\n",
       "      <td>$1800.00</td>\n",
       "      <td>$1829.00</td>\n",
       "      <td>$1850.00</td>\n",
       "      <td>$1851.00</td>\n",
       "      <td>$1985.00</td>\n",
       "      <td>$2191.00</td>\n",
       "    </tr>\n",
       "    <tr>\n",
       "      <th>4</th>\n",
       "      <td>Staten Island</td>\n",
       "      <td>$nan</td>\n",
       "      <td>$nan</td>\n",
       "      <td>$1400.00</td>\n",
       "      <td>$1487.50</td>\n",
       "      <td>$1675.00</td>\n",
       "      <td>$1662.50</td>\n",
       "      <td>$1990.00</td>\n",
       "      <td>$1921.50</td>\n",
       "      <td>$1865.00</td>\n",
       "      <td>$2022.50</td>\n",
       "      <td>$1925.00</td>\n",
       "      <td>$1975.00</td>\n",
       "      <td>$2050.00</td>\n",
       "      <td>$2095.00</td>\n",
       "    </tr>\n",
       "  </tbody>\n",
       "</table>\n",
       "</div>"
      ],
      "text/plain": [
       "         Borough      2010      2011      2012      2013      2014      2015  \\\n",
       "0      Manhattan  $2847.50  $3157.00  $3275.00  $3282.50  $3270.00  $3394.00   \n",
       "1         Queens  $1538.25  $1550.00  $1825.00  $1743.75  $1799.00  $1850.00   \n",
       "2       Brooklyn  $2033.50  $1743.75  $1900.00  $2106.25  $2225.00  $2300.00   \n",
       "3          Bronx  $1425.00  $1210.75  $1425.00  $1275.00  $1331.50  $1400.00   \n",
       "4  Staten Island      $nan      $nan  $1400.00  $1487.50  $1675.00  $1662.50   \n",
       "\n",
       "       2016      2017      2018      2019      2020      2021      2022  \\\n",
       "0  $3412.50  $3318.00  $3334.50  $3500.00  $3172.50  $3267.50  $4213.00   \n",
       "1  $1937.50  $1993.00  $2000.00  $2010.75  $2025.00  $2004.25  $2300.00   \n",
       "2  $2300.00  $2335.00  $2400.00  $2450.00  $2475.00  $2256.00  $2847.50   \n",
       "3  $1552.00  $1695.00  $1800.00  $1829.00  $1850.00  $1851.00  $1985.00   \n",
       "4  $1990.00  $1921.50  $1865.00  $2022.50  $1925.00  $1975.00  $2050.00   \n",
       "\n",
       "       2023  \n",
       "0  $4471.50  \n",
       "1  $2500.00  \n",
       "2  $3125.00  \n",
       "3  $2191.00  \n",
       "4  $2095.00  "
      ]
     },
     "execution_count": 10,
     "metadata": {},
     "output_type": "execute_result"
    }
   ],
   "source": [
    "result_df"
   ]
  },
  {
   "cell_type": "code",
   "execution_count": 11,
   "metadata": {},
   "outputs": [],
   "source": [
    "#Create x and y axis lists\n",
    "time = np.arange(2010, 2024, 1)\n",
    "manhattan = [2847.50,3157.00,3275.00,3282.50,3270.00,3394.00,3412.50,3318.00,3334.50,3500.00,3172.50,3267.50,4213.00,4471.50]\n",
    "queens = [1538.25,1550.00,1825.00,1743.75,1799.00,1850.00,1937.50,1993.00,2000.00,2010.75,2025.00,2004.25,2300.00,2500.00]\n",
    "brooklyn = [2033.50,1743.75,1900.00,2106.25,2225.00,2300.00,2300.00,2335.00,2400.00,2450.00,2475.00,2256.00,2847.50,3125.00]\n",
    "bronx = [1425.00,1210.75,1425.00,1275.00,1331.50,1400.00,1552.00,1695.00,1800.00,1829.00,1850.00,1851.00,1985.00,2191.00]\n",
    "staten_island = [0,0,1400.00,1487.50,1675.00,1662.50,1990.00,1921.50,1865.00,2022.50,1925.00,1975.00,2050.00,2095.00]\n"
   ]
  },
  {
   "cell_type": "code",
   "execution_count": 12,
   "metadata": {},
   "outputs": [
    {
     "data": {
      "image/png": "[encoded data removed]",
      "text/plain": [
       "<Figure size 640x480 with 1 Axes>"
      ]
     },
     "metadata": {},
     "output_type": "display_data"
    }
   ],
   "source": [
    "#Plot the chart, add styling\n",
    "manhattan_median = plt.plot(time, manhattan, color=\"red\", label=\"Manhattan\")\n",
    "queens_median = plt.plot(time, queens, color=\"purple\", label=\"Queens\")\n",
    "brooklyn_median = plt.plot(time, brooklyn, color=\"mediumblue\", label=\"Brooklyn\")\n",
    "bronx_median = plt.plot(time, bronx, color=\"green\", label=\"Bronx\")\n",
    "staten_island_median = plt.plot(time, staten_island, color=\"yellow\", label=\"Staten Island\")\n",
    "\n",
    "#Labels to axes\n",
    "plt.title(\"Median Asking Price of Units Per Month\")\n",
    "plt.xlabel(\"Year/Month\")\n",
    "plt.ylabel(\"Median Asking Price Per Unit Per Month\")\n",
    "plt.grid()\n",
    "\n",
    "#Create Legend for chart\n",
    "plt.legend()\n",
    "plt.show()\n"
   ]
  }
 ],
 "metadata": {
  "kernelspec": {
   "display_name": "Python 3 (ipykernel)",
   "language": "python",
   "name": "python3"
  },
  "language_info": {
   "codemirror_mode": {
    "name": "ipython",
    "version": 3
   },
   "file_extension": ".py",
   "mimetype": "text/x-python",
   "name": "python",
   "nbconvert_exporter": "python",
   "pygments_lexer": "ipython3",
   "version": "3.10.13"
  }
 },
 "nbformat": 4,
 "nbformat_minor": 5
}
