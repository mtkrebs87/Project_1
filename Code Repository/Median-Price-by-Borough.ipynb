{
 "cells": [
  {
   "cell_type": "code",
   "execution_count": 11,
   "id": "dc237e5a",
   "metadata": {},
   "outputs": [],
   "source": [
    "#import libraries, etc, to handle code\n",
    "import pandas as pd\n",
    "import matplotlib.pyplot as plt\n",
    "import numpy as np\n",
    "\n",
    "file_path = 'medianAskingRent_All.csv'\n"
   ]
  },
  {
   "cell_type": "code",
   "execution_count": 12,
   "id": "dc838d6b",
   "metadata": {
    "scrolled": true
   },
   "outputs": [],
   "source": [
    "#import csv from easystreet with pricing by borough\n",
    "df = pd.read_csv(file_path)\n"
   ]
  },
  {
   "cell_type": "code",
   "execution_count": 13,
   "id": "3096fa52",
   "metadata": {},
   "outputs": [
    {
     "name": "stdout",
     "output_type": "stream",
     "text": [
      "              areaName    Borough      areaType  2010-01  2010-02  2010-03  \\\n",
      "0         All Downtown  Manhattan     submarket   3200.0   3200.0   3020.0   \n",
      "1          All Midtown  Manhattan     submarket   2875.0   2800.0   2800.0   \n",
      "2  All Upper East Side  Manhattan     submarket   2450.0   2450.0   2400.0   \n",
      "3  All Upper Manhattan  Manhattan     submarket   1825.0   1800.0   1795.0   \n",
      "4  All Upper West Side  Manhattan     submarket   2895.0   2800.0   2750.0   \n",
      "5              Astoria     Queens  neighborhood   1600.0   1650.0   1620.0   \n",
      "6           Auburndale     Queens  neighborhood      NaN      NaN      NaN   \n",
      "7           Bath Beach   Brooklyn  neighborhood      NaN      NaN      NaN   \n",
      "8    Battery Park City  Manhattan  neighborhood   3495.0   3346.0   3268.0   \n",
      "9            Bay Ridge   Brooklyn  neighborhood   1350.0   1375.0   1350.0   \n",
      "\n",
      "   2010-04  2010-05  2010-06  2010-07  ...  2022-12  2023-01  2023-02  \\\n",
      "0   3100.0   3100.0   3200.0   3195.0  ...   4800.0   4844.0   4951.0   \n",
      "1   2850.0   2895.0   2950.0   3000.0  ...   4378.0   4390.0   4499.0   \n",
      "2   2500.0   2550.0   2550.0   2595.0  ...   3800.0   3900.0   4000.0   \n",
      "3   1800.0   1823.0   1850.0   1875.0  ...   2600.0   2650.0   2697.0   \n",
      "4   2800.0   2800.0   2795.0   2800.0  ...   4450.0   4450.0   4445.0   \n",
      "5   1600.0   1700.0   1700.0   1600.0  ...   2600.0   2695.0   2695.0   \n",
      "6      NaN      NaN      NaN      NaN  ...      NaN   2450.0   2700.0   \n",
      "7      NaN      NaN      NaN      NaN  ...   1700.0   1750.0   1960.0   \n",
      "8   3295.0   3100.0   3395.0   3200.0  ...   5350.0   5413.0   5695.0   \n",
      "9   1350.0   1350.0   1350.0   1300.0  ...   2200.0   2350.0   2312.0   \n",
      "\n",
      "   2023-03  2023-04  2023-05  2023-06  2023-07  2023-08  2023-09  \n",
      "0   4800.0   4875.0   4950.0   4950.0   4900.0   4850.0   4900.0  \n",
      "1   4495.0   4581.0   4500.0   4500.0   4500.0   4500.0   4500.0  \n",
      "2   3995.0   3970.0   3995.0   4000.0   4000.0   3995.0   4000.0  \n",
      "3   2725.0   2800.0   2838.0   2950.0   2900.0   2900.0   2897.0  \n",
      "4   4495.0   4500.0   4463.0   4400.0   4500.0   4500.0   4500.0  \n",
      "5   2750.0   2750.0   2750.0   2800.0   2888.0   2899.0   2850.0  \n",
      "6   2100.0   2050.0   2275.0   2275.0   2495.0   2937.0   2887.0  \n",
      "7   1982.0   2150.0   2300.0   1900.0   1975.0   2250.0   2350.0  \n",
      "8   5438.0   5500.0   5758.0   5545.0   5999.0   6153.0   5850.0  \n",
      "9   2200.0   2150.0   2200.0   2299.0   2275.0   2388.0   2500.0  \n",
      "\n",
      "[10 rows x 168 columns]\n"
     ]
    }
   ],
   "source": [
    "#drop the borough entered as NaN\n",
    "df.dropna(subset=['Borough'], inplace=True)\n",
    "\n",
    "#print the csv top 10 rows\n",
    "print(df.head(10))"
   ]
  },
  {
   "cell_type": "code",
   "execution_count": 14,
   "id": "9def50f0",
   "metadata": {},
   "outputs": [],
   "source": [
    "# Create a list of all unique boroughs from the \"Borough\" column\n",
    "unique_boroughs = df['Borough'].unique()\n",
    "\n",
    "# Initialize an empty DataFrame to store the results with column names specified directly\n",
    "columns_to_include = df.columns[3:]\n",
    "result_df = pd.DataFrame(columns=['Borough'] + list(columns_to_include))\n"
   ]
  },
  {
   "cell_type": "code",
   "execution_count": 15,
   "id": "5f7b24f4",
   "metadata": {},
   "outputs": [
    {
     "ename": "AttributeError",
     "evalue": "'DataFrame' object has no attribute 'append'",
     "output_type": "error",
     "traceback": [
      "\u001b[1;31m---------------------------------------------------------------------------\u001b[0m",
      "\u001b[1;31mAttributeError\u001b[0m                            Traceback (most recent call last)",
      "\u001b[1;32m~\\AppData\\Local\\Temp\\ipykernel_18276\\3816048886.py\u001b[0m in \u001b[0;36m?\u001b[1;34m()\u001b[0m\n\u001b[0;32m     10\u001b[0m     \u001b[0mborough_data\u001b[0m \u001b[1;33m=\u001b[0m \u001b[1;33m{\u001b[0m\u001b[1;34m'Borough'\u001b[0m\u001b[1;33m:\u001b[0m \u001b[0mborough\u001b[0m\u001b[1;33m}\u001b[0m\u001b[1;33m\u001b[0m\u001b[1;33m\u001b[0m\u001b[0m\n\u001b[0;32m     11\u001b[0m     \u001b[0mborough_data\u001b[0m\u001b[1;33m.\u001b[0m\u001b[0mupdate\u001b[0m\u001b[1;33m(\u001b[0m\u001b[0mmedian_rental_prices\u001b[0m\u001b[1;33m)\u001b[0m\u001b[1;33m\u001b[0m\u001b[1;33m\u001b[0m\u001b[0m\n\u001b[0;32m     12\u001b[0m \u001b[1;33m\u001b[0m\u001b[0m\n\u001b[0;32m     13\u001b[0m     \u001b[1;31m# Append the data to the result DataFrame\u001b[0m\u001b[1;33m\u001b[0m\u001b[1;33m\u001b[0m\u001b[0m\n\u001b[1;32m---> 14\u001b[1;33m     \u001b[0mresult_df\u001b[0m \u001b[1;33m=\u001b[0m \u001b[0mresult_df\u001b[0m\u001b[1;33m.\u001b[0m\u001b[0mappend\u001b[0m\u001b[1;33m(\u001b[0m\u001b[0mborough_data\u001b[0m\u001b[1;33m,\u001b[0m \u001b[0mignore_index\u001b[0m\u001b[1;33m=\u001b[0m\u001b[1;32mTrue\u001b[0m\u001b[1;33m)\u001b[0m\u001b[1;33m\u001b[0m\u001b[1;33m\u001b[0m\u001b[0m\n\u001b[0m",
      "\u001b[1;32mc:\\Users\\Michael Krebs\\anaconda3\\envs\\dev\\lib\\site-packages\\pandas\\core\\generic.py\u001b[0m in \u001b[0;36m?\u001b[1;34m(self, name)\u001b[0m\n\u001b[0;32m   5985\u001b[0m             \u001b[1;32mand\u001b[0m \u001b[0mname\u001b[0m \u001b[1;32mnot\u001b[0m \u001b[1;32min\u001b[0m \u001b[0mself\u001b[0m\u001b[1;33m.\u001b[0m\u001b[0m_accessors\u001b[0m\u001b[1;33m\u001b[0m\u001b[1;33m\u001b[0m\u001b[0m\n\u001b[0;32m   5986\u001b[0m             \u001b[1;32mand\u001b[0m \u001b[0mself\u001b[0m\u001b[1;33m.\u001b[0m\u001b[0m_info_axis\u001b[0m\u001b[1;33m.\u001b[0m\u001b[0m_can_hold_identifiers_and_holds_name\u001b[0m\u001b[1;33m(\u001b[0m\u001b[0mname\u001b[0m\u001b[1;33m)\u001b[0m\u001b[1;33m\u001b[0m\u001b[1;33m\u001b[0m\u001b[0m\n\u001b[0;32m   5987\u001b[0m         ):\n\u001b[0;32m   5988\u001b[0m             \u001b[1;32mreturn\u001b[0m \u001b[0mself\u001b[0m\u001b[1;33m[\u001b[0m\u001b[0mname\u001b[0m\u001b[1;33m]\u001b[0m\u001b[1;33m\u001b[0m\u001b[1;33m\u001b[0m\u001b[0m\n\u001b[1;32m-> 5989\u001b[1;33m         \u001b[1;32mreturn\u001b[0m \u001b[0mobject\u001b[0m\u001b[1;33m.\u001b[0m\u001b[0m__getattribute__\u001b[0m\u001b[1;33m(\u001b[0m\u001b[0mself\u001b[0m\u001b[1;33m,\u001b[0m \u001b[0mname\u001b[0m\u001b[1;33m)\u001b[0m\u001b[1;33m\u001b[0m\u001b[1;33m\u001b[0m\u001b[0m\n\u001b[0m",
      "\u001b[1;31mAttributeError\u001b[0m: 'DataFrame' object has no attribute 'append'"
     ]
    }
   ],
   "source": [
    "# go through each borough listing and create a combined df for each\n",
    "for borough in unique_boroughs:\n",
    "    # Select only rows for the current borough\n",
    "    borough_df = df[df['Borough'] == borough]\n",
    "\n",
    "    # Calculate the median rental price for each date entry, excluding NaN values\n",
    "    median_rental_prices = borough_df[columns_to_include].median(skipna=True).apply(lambda x: \"${:.2f}\".format(x))\n",
    "\n",
    "    # Create a dictionary with borough and formatted median rental prices\n",
    "    borough_data = {'Borough': borough}\n",
    "    borough_data.update(median_rental_prices)\n",
    "\n",
    "    # Append the data to the result DataFrame\n",
    "    result_df = result_df.append(borough_data, ignore_index=True)\n"
   ]
  },
  {
   "cell_type": "code",
   "execution_count": 9,
   "id": "02aae29a",
   "metadata": {},
   "outputs": [],
   "source": [
    "# Reset the index of the result DataFrame\n",
    "result_df.reset_index(drop=True, inplace=True)\n"
   ]
  },
  {
   "cell_type": "code",
   "execution_count": 10,
   "id": "e6fd1aa2",
   "metadata": {
    "scrolled": true
   },
   "outputs": [
    {
     "name": "stdout",
     "output_type": "stream",
     "text": [
      "Empty DataFrame\n",
      "Columns: [Borough, 2010-01, 2010-02, 2010-03, 2010-04, 2010-05, 2010-06, 2010-07, 2010-08, 2010-09, 2010-10, 2010-11, 2010-12, 2011-01, 2011-02, 2011-03, 2011-04, 2011-05, 2011-06, 2011-07, 2011-08, 2011-09, 2011-10, 2011-11, 2011-12, 2012-01, 2012-02, 2012-03, 2012-04, 2012-05, 2012-06, 2012-07, 2012-08, 2012-09, 2012-10, 2012-11, 2012-12, 2013-01, 2013-02, 2013-03, 2013-04, 2013-05, 2013-06, 2013-07, 2013-08, 2013-09, 2013-10, 2013-11, 2013-12, 2014-01, 2014-02, 2014-03, 2014-04, 2014-05, 2014-06, 2014-07, 2014-08, 2014-09, 2014-10, 2014-11, 2014-12, 2015-01, 2015-02, 2015-03, 2015-04, 2015-05, 2015-06, 2015-07, 2015-08, 2015-09, 2015-10, 2015-11, 2015-12, 2016-01, 2016-02, 2016-03, 2016-04, 2016-05, 2016-06, 2016-07, 2016-08, 2016-09, 2016-10, 2016-11, 2016-12, 2017-01, 2017-02, 2017-03, 2017-04, 2017-05, 2017-06, 2017-07, 2017-08, 2017-09, 2017-10, 2017-11, 2017-12, 2018-01, 2018-02, 2018-03, ...]\n",
      "Index: []\n",
      "\n",
      "[0 rows x 166 columns]\n"
     ]
    }
   ],
   "source": [
    "#print the new dataframe\n",
    "print(result_df)\n"
   ]
  },
  {
   "cell_type": "code",
   "execution_count": 2,
   "id": "56398fff",
   "metadata": {},
   "outputs": [
    {
     "ename": "NameError",
     "evalue": "name 'result_df' is not defined",
     "output_type": "error",
     "traceback": [
      "\u001b[1;31m---------------------------------------------------------------------------\u001b[0m",
      "\u001b[1;31mNameError\u001b[0m                                 Traceback (most recent call last)",
      "\u001b[1;32mc:\\Users\\Michael Krebs\\Desktop\\Data Analysis Course\\Project_1\\Project_1\\Code Repository\\Median-Price-by-Borough.ipynb Cell 8\u001b[0m line \u001b[0;36m1\n\u001b[1;32m----> <a href='vscode-notebook-cell:/c%3A/Users/Michael%20Krebs/Desktop/Data%20Analysis%20Course/Project_1/Project_1/Code%20Repository/Median-Price-by-Borough.ipynb#X10sZmlsZQ%3D%3D?line=0'>1</a>\u001b[0m result_df\n",
      "\u001b[1;31mNameError\u001b[0m: name 'result_df' is not defined"
     ]
    }
   ],
   "source": []
  }
 ],
 "metadata": {
  "kernelspec": {
   "display_name": "Python 3 (ipykernel)",
   "language": "python",
   "name": "python3"
  },
  "language_info": {
   "codemirror_mode": {
    "name": "ipython",
    "version": 3
   },
   "file_extension": ".py",
   "mimetype": "text/x-python",
   "name": "python",
   "nbconvert_exporter": "python",
   "pygments_lexer": "ipython3",
   "version": "3.10.13"
  }
 },
 "nbformat": 4,
 "nbformat_minor": 5
}
