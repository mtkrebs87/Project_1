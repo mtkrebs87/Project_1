{
 "cells": [
  {
   "cell_type": "code",
   "execution_count": 8,
   "id": "dc237e5a",
   "metadata": {},
   "outputs": [],
   "source": [
    "#import libraries, etc, to handle code\n",
    "import pandas as pd\n",
    "file_path = 'medianAskingRent_All.csv'\n"
   ]
  },
  {
   "cell_type": "code",
   "execution_count": 9,
   "id": "dc838d6b",
   "metadata": {
    "scrolled": true
   },
   "outputs": [],
   "source": [
    "#import csv from easystreet with pricing by borough\n",
    "df = pd.read_csv(file_path)\n"
   ]
  },
  {
   "cell_type": "code",
   "execution_count": 10,
   "id": "3096fa52",
   "metadata": {},
   "outputs": [
    {
     "name": "stdout",
     "output_type": "stream",
     "text": [
      "              areaName    Borough      areaType  2010-01  2010-02  2010-03  \\\n",
      "0         All Downtown  Manhattan     submarket   3200.0   3200.0   3020.0   \n",
      "1          All Midtown  Manhattan     submarket   2875.0   2800.0   2800.0   \n",
      "2  All Upper East Side  Manhattan     submarket   2450.0   2450.0   2400.0   \n",
      "3  All Upper Manhattan  Manhattan     submarket   1825.0   1800.0   1795.0   \n",
      "4  All Upper West Side  Manhattan     submarket   2895.0   2800.0   2750.0   \n",
      "5              Astoria     Queens  neighborhood   1600.0   1650.0   1620.0   \n",
      "6           Auburndale     Queens  neighborhood      NaN      NaN      NaN   \n",
      "7           Bath Beach   Brooklyn  neighborhood      NaN      NaN      NaN   \n",
      "8    Battery Park City  Manhattan  neighborhood   3495.0   3346.0   3268.0   \n",
      "9            Bay Ridge   Brooklyn  neighborhood   1350.0   1375.0   1350.0   \n",
      "\n",
      "   2010-04  2010-05  2010-06  2010-07  ...  2022-12  2023-01  2023-02  \\\n",
      "0   3100.0   3100.0   3200.0   3195.0  ...   4800.0   4844.0   4951.0   \n",
      "1   2850.0   2895.0   2950.0   3000.0  ...   4378.0   4390.0   4499.0   \n",
      "2   2500.0   2550.0   2550.0   2595.0  ...   3800.0   3900.0   4000.0   \n",
      "3   1800.0   1823.0   1850.0   1875.0  ...   2600.0   2650.0   2697.0   \n",
      "4   2800.0   2800.0   2795.0   2800.0  ...   4450.0   4450.0   4445.0   \n",
      "5   1600.0   1700.0   1700.0   1600.0  ...   2600.0   2695.0   2695.0   \n",
      "6      NaN      NaN      NaN      NaN  ...      NaN   2450.0   2700.0   \n",
      "7      NaN      NaN      NaN      NaN  ...   1700.0   1750.0   1960.0   \n",
      "8   3295.0   3100.0   3395.0   3200.0  ...   5350.0   5413.0   5695.0   \n",
      "9   1350.0   1350.0   1350.0   1300.0  ...   2200.0   2350.0   2312.0   \n",
      "\n",
      "   2023-03  2023-04  2023-05  2023-06  2023-07  2023-08  2023-09  \n",
      "0   4800.0   4875.0   4950.0   4950.0   4900.0   4850.0   4900.0  \n",
      "1   4495.0   4581.0   4500.0   4500.0   4500.0   4500.0   4500.0  \n",
      "2   3995.0   3970.0   3995.0   4000.0   4000.0   3995.0   4000.0  \n",
      "3   2725.0   2800.0   2838.0   2950.0   2900.0   2900.0   2897.0  \n",
      "4   4495.0   4500.0   4463.0   4400.0   4500.0   4500.0   4500.0  \n",
      "5   2750.0   2750.0   2750.0   2800.0   2888.0   2899.0   2850.0  \n",
      "6   2100.0   2050.0   2275.0   2275.0   2495.0   2937.0   2887.0  \n",
      "7   1982.0   2150.0   2300.0   1900.0   1975.0   2250.0   2350.0  \n",
      "8   5438.0   5500.0   5758.0   5545.0   5999.0   6153.0   5850.0  \n",
      "9   2200.0   2150.0   2200.0   2299.0   2275.0   2388.0   2500.0  \n",
      "\n",
      "[10 rows x 168 columns]\n"
     ]
    }
   ],
   "source": [
    "#drop the borough entered as NaN\n",
    "df = df.dropna(subset=['Borough'])\n",
    "\n",
    "# Define the list of columns to include (starting from the 4th column)\n",
    "columns_to_include = df.columns[3:]\n",
    "\n",
    "#print the csv top 10 rows\n",
    "print(df.head(10))"
   ]
  },
  {
   "cell_type": "code",
   "execution_count": 11,
   "id": "9def50f0",
   "metadata": {},
   "outputs": [],
   "source": [
    "# Create a list of all unique boroughs from the \"Borough\" column\n",
    "unique_boroughs = df['Borough'].unique()\n",
    "\n",
    "# Initialize an empty DataFrame to store the results with column names specified directly\n",
    "result_data = []\n"
   ]
  },
  {
   "cell_type": "code",
   "execution_count": 17,
   "id": "5f7b24f4",
   "metadata": {
    "scrolled": false
   },
   "outputs": [],
   "source": [
    "# Iterate through each borough\n",
    "for borough in unique_boroughs:\n",
    "    # Select only rows for the current borough\n",
    "    borough_df = df[df['Borough'] == borough]\n",
    "\n",
    "    # Calculate the median rental price for each date entry, excluding NaN values\n",
    "    median_rental_prices = borough_df[columns_to_include].median(skipna=True).apply(lambda x: \"${:.2f}\".format(x))\n",
    "\n",
    "    # Create a dictionary with borough and formatted median rental prices\n",
    "    borough_data = {'Borough': borough}\n",
    "    borough_data.update(median_rental_prices)\n",
    "\n",
    "    # Append the data to the result list\n",
    "    result_data.append(borough_data)"
   ]
  },
  {
   "cell_type": "code",
   "execution_count": 18,
   "id": "02aae29a",
   "metadata": {},
   "outputs": [],
   "source": [
    "# Create a DataFrame from the list of dictionaries\n",
    "result_df = pd.DataFrame(result_data)\n"
   ]
  },
  {
   "cell_type": "code",
   "execution_count": 19,
   "id": "b2ac6c15",
   "metadata": {},
   "outputs": [],
   "source": [
    "# Reset the index of the result DataFrame\n",
    "result_df.reset_index(drop=True, inplace=True)"
   ]
  },
  {
   "cell_type": "code",
   "execution_count": 20,
   "id": "802df330",
   "metadata": {},
   "outputs": [],
   "source": [
    "# Save the DataFrame as a CSV file\n",
    "result_df.to_csv('Output_Median_Rent_DF.csv', index=False)"
   ]
  },
  {
   "cell_type": "code",
   "execution_count": 21,
   "id": "e6fd1aa2",
   "metadata": {
    "scrolled": true
   },
   "outputs": [
    {
     "name": "stdout",
     "output_type": "stream",
     "text": [
      "         Borough   2010-01   2010-02   2010-03   2010-04   2010-05   2010-06  \\\n",
      "0      Manhattan  $2895.00  $2800.00  $2750.00  $2800.00  $2800.00  $2797.50   \n",
      "1         Queens  $1587.50  $1483.00  $1547.50  $1550.00  $1450.00  $1456.50   \n",
      "2       Brooklyn  $2000.00  $1950.00  $2100.00  $2000.00  $2150.00  $2225.00   \n",
      "3          Bronx  $1392.00  $1396.50  $1404.00  $1440.50  $1600.00  $1500.00   \n",
      "4  Staten Island      $nan      $nan      $nan      $nan      $nan      $nan   \n",
      "5      Manhattan  $2895.00  $2800.00  $2750.00  $2800.00  $2800.00  $2797.50   \n",
      "6         Queens  $1587.50  $1483.00  $1547.50  $1550.00  $1450.00  $1456.50   \n",
      "7       Brooklyn  $2000.00  $1950.00  $2100.00  $2000.00  $2150.00  $2225.00   \n",
      "8          Bronx  $1392.00  $1396.50  $1404.00  $1440.50  $1600.00  $1500.00   \n",
      "9  Staten Island      $nan      $nan      $nan      $nan      $nan      $nan   \n",
      "\n",
      "    2010-07   2010-08   2010-09  ...   2022-12   2023-01   2023-02   2023-03  \\\n",
      "0  $2858.00  $2895.00  $2995.00  ...  $4324.00  $4325.00  $4345.00  $4375.00   \n",
      "1  $1463.00  $1550.00  $1563.00  ...  $2400.00  $2375.00  $2499.00  $2488.00   \n",
      "2  $2300.00  $2200.00  $2350.00  ...  $2975.50  $3000.00  $3000.00  $3000.00   \n",
      "3  $1864.50  $2062.50  $1900.00  ...  $2051.50  $2100.00  $2180.00  $2181.00   \n",
      "4      $nan      $nan      $nan  ...  $2050.00  $2095.00  $2175.00  $2200.00   \n",
      "5  $2858.00  $2895.00  $2995.00  ...  $4324.00  $4325.00  $4345.00  $4375.00   \n",
      "6  $1463.00  $1550.00  $1563.00  ...  $2400.00  $2375.00  $2499.00  $2488.00   \n",
      "7  $2300.00  $2200.00  $2350.00  ...  $2975.50  $3000.00  $3000.00  $3000.00   \n",
      "8  $1864.50  $2062.50  $1900.00  ...  $2051.50  $2100.00  $2180.00  $2181.00   \n",
      "9      $nan      $nan      $nan  ...  $2050.00  $2095.00  $2175.00  $2200.00   \n",
      "\n",
      "    2023-04   2023-05   2023-06   2023-07   2023-08   2023-09  \n",
      "0  $4449.00  $4431.00  $4412.50  $4466.50  $4472.50  $4500.00  \n",
      "1  $2450.00  $2500.00  $2500.00  $2499.50  $2600.00  $2603.00  \n",
      "2  $3072.50  $3137.50  $3200.00  $3100.00  $3200.00  $3175.00  \n",
      "3  $2197.50  $2150.00  $2349.50  $2284.50  $2262.50  $2299.50  \n",
      "4  $2200.00  $2100.00  $2000.00  $1900.00  $2000.00  $2063.00  \n",
      "5  $4449.00  $4431.00  $4412.50  $4466.50  $4472.50  $4500.00  \n",
      "6  $2450.00  $2500.00  $2500.00  $2499.50  $2600.00  $2603.00  \n",
      "7  $3072.50  $3137.50  $3200.00  $3100.00  $3200.00  $3175.00  \n",
      "8  $2197.50  $2150.00  $2349.50  $2284.50  $2262.50  $2299.50  \n",
      "9  $2200.00  $2100.00  $2000.00  $1900.00  $2000.00  $2063.00  \n",
      "\n",
      "[10 rows x 166 columns]\n"
     ]
    }
   ],
   "source": [
    "#print the new dataframe\n",
    "print(result_df)\n"
   ]
  },
  {
   "cell_type": "code",
   "execution_count": null,
   "id": "56398fff",
   "metadata": {},
   "outputs": [],
   "source": []
  }
 ],
 "metadata": {
  "kernelspec": {
   "display_name": "Python 3 (ipykernel)",
   "language": "python",
   "name": "python3"
  },
  "language_info": {
   "codemirror_mode": {
    "name": "ipython",
    "version": 3
   },
   "file_extension": ".py",
   "mimetype": "text/x-python",
   "name": "python",
   "nbconvert_exporter": "python",
   "pygments_lexer": "ipython3",
   "version": "3.10.13"
  }
 },
 "nbformat": 4,
 "nbformat_minor": 5
}
