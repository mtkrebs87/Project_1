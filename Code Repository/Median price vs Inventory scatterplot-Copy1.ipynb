{
 "cells": [
  {
   "cell_type": "code",
   "execution_count": 1,
   "id": "4ec69f8a",
   "metadata": {},
   "outputs": [],
   "source": [
    "import pandas as pd\n",
    "import matplotlib.pyplot as plt\n",
    "import os"
   ]
  },
  {
   "cell_type": "code",
   "execution_count": 2,
   "id": "2ca55a9b",
   "metadata": {},
   "outputs": [],
   "source": [
    "# Load the two CSV files into DataFrames\n",
    "rental_inventory_df = pd.read_csv('../Data File Repository/Rental_Inventory_DF.csv')\n",
    "yearly_median_rent_df = pd.read_csv('../Data File Repository/Yearly_Median_Rent_DF.csv')\n"
   ]
  },
  {
   "cell_type": "code",
   "execution_count": 3,
   "id": "6fbecc23",
   "metadata": {},
   "outputs": [],
   "source": [
    "# Rename columns in rental_inventory_df\n",
    "rental_inventory_columns = {'Borough': 'Borough'}\n",
    "rental_inventory_columns.update({\n",
    "    str(year): f\"{year} Total Rentals\" for year in range(2010, 2024)\n",
    "})\n",
    "rental_inventory_df.rename(columns=rental_inventory_columns, inplace=True)\n"
   ]
  },
  {
   "cell_type": "code",
   "execution_count": 4,
   "id": "ceddcd85",
   "metadata": {},
   "outputs": [],
   "source": [
    "# Rename columns in yearly_median_rent_df\n",
    "yearly_median_rent_columns = {'Borough': 'Borough'}\n",
    "yearly_median_rent_columns.update({\n",
    "    str(year): f\"{year} Median Rent\" for year in range(2010, 2024)\n",
    "})\n",
    "yearly_median_rent_df.rename(columns=yearly_median_rent_columns, inplace=True)\n"
   ]
  },
  {
   "cell_type": "code",
   "execution_count": 5,
   "id": "8bb1f3c7",
   "metadata": {},
   "outputs": [],
   "source": [
    "# Combine the two DataFrames into a single DataFrame on 'Borough'\n",
    "combined_df = pd.merge(rental_inventory_df, yearly_median_rent_df, on='Borough')\n"
   ]
  },
  {
   "cell_type": "code",
   "execution_count": 6,
   "id": "ac38463e",
   "metadata": {},
   "outputs": [],
   "source": [
    "# Define new column order\n",
    "new_order = ['Borough']\n",
    "for year in range(2010, 2024):\n",
    "    new_order.extend([f\"{year} Total Rentals\", f\"{year} Median Rent\"])\n"
   ]
  },
  {
   "cell_type": "code",
   "execution_count": 7,
   "id": "7f9c5120",
   "metadata": {},
   "outputs": [],
   "source": [
    "# Reorder columns based on the new order\n",
    "combined_df = combined_df[new_order]\n"
   ]
  },
  {
   "cell_type": "code",
   "execution_count": 22,
   "id": "265807f0",
   "metadata": {},
   "outputs": [
    {
     "data": {
      "text/html": [
       "<div>\n",
       "<style scoped>\n",
       "    .dataframe tbody tr th:only-of-type {\n",
       "        vertical-align: middle;\n",
       "    }\n",
       "\n",
       "    .dataframe tbody tr th {\n",
       "        vertical-align: top;\n",
       "    }\n",
       "\n",
       "    .dataframe thead th {\n",
       "        text-align: right;\n",
       "    }\n",
       "</style>\n",
       "<table border=\"1\" class=\"dataframe\">\n",
       "  <thead>\n",
       "    <tr style=\"text-align: right;\">\n",
       "      <th></th>\n",
       "      <th>Borough</th>\n",
       "      <th>2010 Total Rentals</th>\n",
       "      <th>2010 Median Rent</th>\n",
       "      <th>2011 Total Rentals</th>\n",
       "      <th>2011 Median Rent</th>\n",
       "      <th>2012 Total Rentals</th>\n",
       "      <th>2012 Median Rent</th>\n",
       "      <th>2013 Total Rentals</th>\n",
       "      <th>2013 Median Rent</th>\n",
       "      <th>2014 Total Rentals</th>\n",
       "      <th>...</th>\n",
       "      <th>2019 Total Rentals</th>\n",
       "      <th>2019 Median Rent</th>\n",
       "      <th>2020 Total Rentals</th>\n",
       "      <th>2020 Median Rent</th>\n",
       "      <th>2021 Total Rentals</th>\n",
       "      <th>2021 Median Rent</th>\n",
       "      <th>2022 Total Rentals</th>\n",
       "      <th>2022 Median Rent</th>\n",
       "      <th>2023 Total Rentals</th>\n",
       "      <th>2023 Median Rent</th>\n",
       "    </tr>\n",
       "  </thead>\n",
       "  <tbody>\n",
       "    <tr>\n",
       "      <th>0</th>\n",
       "      <td>Bronx</td>\n",
       "      <td>3087</td>\n",
       "      <td>$1425.00</td>\n",
       "      <td>3674</td>\n",
       "      <td>$1210.75</td>\n",
       "      <td>5419</td>\n",
       "      <td>$1425.00</td>\n",
       "      <td>5462</td>\n",
       "      <td>$1275.00</td>\n",
       "      <td>10815</td>\n",
       "      <td>...</td>\n",
       "      <td>24007</td>\n",
       "      <td>$1829.00</td>\n",
       "      <td>17403</td>\n",
       "      <td>$1850.00</td>\n",
       "      <td>21560</td>\n",
       "      <td>$1851.00</td>\n",
       "      <td>22666</td>\n",
       "      <td>$1985.00</td>\n",
       "      <td>18069</td>\n",
       "      <td>$2191.00</td>\n",
       "    </tr>\n",
       "    <tr>\n",
       "      <th>1</th>\n",
       "      <td>Brooklyn</td>\n",
       "      <td>59006</td>\n",
       "      <td>$2033.50</td>\n",
       "      <td>65757</td>\n",
       "      <td>$1743.75</td>\n",
       "      <td>83105</td>\n",
       "      <td>$1900.00</td>\n",
       "      <td>136910</td>\n",
       "      <td>$2106.25</td>\n",
       "      <td>275336</td>\n",
       "      <td>...</td>\n",
       "      <td>487618</td>\n",
       "      <td>$2450.00</td>\n",
       "      <td>629297</td>\n",
       "      <td>$2475.00</td>\n",
       "      <td>580416</td>\n",
       "      <td>$2256.00</td>\n",
       "      <td>359197</td>\n",
       "      <td>$2847.50</td>\n",
       "      <td>296376</td>\n",
       "      <td>$3125.00</td>\n",
       "    </tr>\n",
       "    <tr>\n",
       "      <th>2</th>\n",
       "      <td>Manhattan</td>\n",
       "      <td>441207</td>\n",
       "      <td>$2847.50</td>\n",
       "      <td>395231</td>\n",
       "      <td>$3157.00</td>\n",
       "      <td>456434</td>\n",
       "      <td>$3275.00</td>\n",
       "      <td>576566</td>\n",
       "      <td>$3282.50</td>\n",
       "      <td>697721</td>\n",
       "      <td>...</td>\n",
       "      <td>675302</td>\n",
       "      <td>$3500.00</td>\n",
       "      <td>1013629</td>\n",
       "      <td>$3172.50</td>\n",
       "      <td>806908</td>\n",
       "      <td>$3267.50</td>\n",
       "      <td>506199</td>\n",
       "      <td>$4213.00</td>\n",
       "      <td>481479</td>\n",
       "      <td>$4471.50</td>\n",
       "    </tr>\n",
       "    <tr>\n",
       "      <th>3</th>\n",
       "      <td>Queens</td>\n",
       "      <td>19596</td>\n",
       "      <td>$1538.25</td>\n",
       "      <td>18369</td>\n",
       "      <td>$1550.00</td>\n",
       "      <td>30753</td>\n",
       "      <td>$1825.00</td>\n",
       "      <td>40171</td>\n",
       "      <td>$1743.75</td>\n",
       "      <td>89093</td>\n",
       "      <td>...</td>\n",
       "      <td>177469</td>\n",
       "      <td>$2010.75</td>\n",
       "      <td>205331</td>\n",
       "      <td>$2025.00</td>\n",
       "      <td>232639</td>\n",
       "      <td>$2004.25</td>\n",
       "      <td>146431</td>\n",
       "      <td>$2300.00</td>\n",
       "      <td>113475</td>\n",
       "      <td>$2500.00</td>\n",
       "    </tr>\n",
       "    <tr>\n",
       "      <th>4</th>\n",
       "      <td>Staten Island</td>\n",
       "      <td>55</td>\n",
       "      <td>$nan</td>\n",
       "      <td>57</td>\n",
       "      <td>$nan</td>\n",
       "      <td>139</td>\n",
       "      <td>$1400.00</td>\n",
       "      <td>331</td>\n",
       "      <td>$1487.50</td>\n",
       "      <td>522</td>\n",
       "      <td>...</td>\n",
       "      <td>812</td>\n",
       "      <td>$2022.50</td>\n",
       "      <td>481</td>\n",
       "      <td>$1925.00</td>\n",
       "      <td>627</td>\n",
       "      <td>$1975.00</td>\n",
       "      <td>925</td>\n",
       "      <td>$2050.00</td>\n",
       "      <td>742</td>\n",
       "      <td>$2095.00</td>\n",
       "    </tr>\n",
       "  </tbody>\n",
       "</table>\n",
       "<p>5 rows × 29 columns</p>\n",
       "</div>"
      ],
      "text/plain": [
       "         Borough  2010 Total Rentals 2010 Median Rent  2011 Total Rentals  \\\n",
       "0          Bronx                3087         $1425.00                3674   \n",
       "1       Brooklyn               59006         $2033.50               65757   \n",
       "2      Manhattan              441207         $2847.50              395231   \n",
       "3         Queens               19596         $1538.25               18369   \n",
       "4  Staten Island                  55             $nan                  57   \n",
       "\n",
       "  2011 Median Rent  2012 Total Rentals 2012 Median Rent  2013 Total Rentals  \\\n",
       "0         $1210.75                5419         $1425.00                5462   \n",
       "1         $1743.75               83105         $1900.00              136910   \n",
       "2         $3157.00              456434         $3275.00              576566   \n",
       "3         $1550.00               30753         $1825.00               40171   \n",
       "4             $nan                 139         $1400.00                 331   \n",
       "\n",
       "  2013 Median Rent  2014 Total Rentals  ... 2019 Total Rentals  \\\n",
       "0         $1275.00               10815  ...              24007   \n",
       "1         $2106.25              275336  ...             487618   \n",
       "2         $3282.50              697721  ...             675302   \n",
       "3         $1743.75               89093  ...             177469   \n",
       "4         $1487.50                 522  ...                812   \n",
       "\n",
       "   2019 Median Rent 2020 Total Rentals  2020 Median Rent 2021 Total Rentals  \\\n",
       "0          $1829.00              17403          $1850.00              21560   \n",
       "1          $2450.00             629297          $2475.00             580416   \n",
       "2          $3500.00            1013629          $3172.50             806908   \n",
       "3          $2010.75             205331          $2025.00             232639   \n",
       "4          $2022.50                481          $1925.00                627   \n",
       "\n",
       "   2021 Median Rent 2022 Total Rentals  2022 Median Rent 2023 Total Rentals  \\\n",
       "0          $1851.00              22666          $1985.00              18069   \n",
       "1          $2256.00             359197          $2847.50             296376   \n",
       "2          $3267.50             506199          $4213.00             481479   \n",
       "3          $2004.25             146431          $2300.00             113475   \n",
       "4          $1975.00                925          $2050.00                742   \n",
       "\n",
       "   2023 Median Rent  \n",
       "0          $2191.00  \n",
       "1          $3125.00  \n",
       "2          $4471.50  \n",
       "3          $2500.00  \n",
       "4          $2095.00  \n",
       "\n",
       "[5 rows x 29 columns]"
      ]
     },
     "execution_count": 22,
     "metadata": {},
     "output_type": "execute_result"
    }
   ],
   "source": [
    "# Print the resulting DataFrame for debugging purposes\n",
    "combined_df.head()"
   ]
  },
  {
   "cell_type": "code",
   "execution_count": 9,
   "id": "98d810fd",
   "metadata": {},
   "outputs": [],
   "source": [
    "# Save the DataFrame as a CSV file in the \"Data File Repository\" directory one level up\n",
    "output_folder = '../Data File Repository'\n",
    "output_file_path = os.path.join(output_folder, 'Combined_Rental_Median_Price_Inventory.csv')\n",
    "os.makedirs(output_folder, exist_ok=True)  # Create the folder if it doesn't exist\n",
    "combined_df.to_csv(output_file_path, index=False)\n"
   ]
  },
  {
   "cell_type": "code",
   "execution_count": 10,
   "id": "dea72aa7",
   "metadata": {},
   "outputs": [],
   "source": [
    "# Create two separate DataFrames for Total Rentals and Median Rent\n",
    "melted_inventory = combined_df.melt(id_vars=['Borough'], value_vars=[f\"{year} Total Rentals\" for year in range(2010, 2024)], var_name='Year', value_name='Total Rentals')\n",
    "melted_rent = combined_df.melt(id_vars=['Borough'], value_vars=[f\"{year} Median Rent\" for year in range(2010, 2024)], var_name='Year', value_name='Median Rent')\n"
   ]
  },
  {
   "cell_type": "code",
   "execution_count": 11,
   "id": "9cad55cb",
   "metadata": {},
   "outputs": [],
   "source": [
    "# Clean up the Median Rent column and convert to float\n",
    "melted_rent['Median Rent'] = melted_rent['Median Rent'].replace('[\\$,]', '', regex=True).astype(float)\n"
   ]
  },
  {
   "cell_type": "code",
   "execution_count": 23,
   "id": "07bdcb08",
   "metadata": {},
   "outputs": [
    {
     "data": {
      "text/html": [
       "<div>\n",
       "<style scoped>\n",
       "    .dataframe tbody tr th:only-of-type {\n",
       "        vertical-align: middle;\n",
       "    }\n",
       "\n",
       "    .dataframe tbody tr th {\n",
       "        vertical-align: top;\n",
       "    }\n",
       "\n",
       "    .dataframe thead th {\n",
       "        text-align: right;\n",
       "    }\n",
       "</style>\n",
       "<table border=\"1\" class=\"dataframe\">\n",
       "  <thead>\n",
       "    <tr style=\"text-align: right;\">\n",
       "      <th></th>\n",
       "      <th>Borough</th>\n",
       "      <th>Year</th>\n",
       "      <th>Median Rent</th>\n",
       "    </tr>\n",
       "  </thead>\n",
       "  <tbody>\n",
       "    <tr>\n",
       "      <th>0</th>\n",
       "      <td>Bronx</td>\n",
       "      <td>2010</td>\n",
       "      <td>1425.00</td>\n",
       "    </tr>\n",
       "    <tr>\n",
       "      <th>1</th>\n",
       "      <td>Brooklyn</td>\n",
       "      <td>2010</td>\n",
       "      <td>2033.50</td>\n",
       "    </tr>\n",
       "    <tr>\n",
       "      <th>2</th>\n",
       "      <td>Manhattan</td>\n",
       "      <td>2010</td>\n",
       "      <td>2847.50</td>\n",
       "    </tr>\n",
       "    <tr>\n",
       "      <th>3</th>\n",
       "      <td>Queens</td>\n",
       "      <td>2010</td>\n",
       "      <td>1538.25</td>\n",
       "    </tr>\n",
       "    <tr>\n",
       "      <th>4</th>\n",
       "      <td>Staten Island</td>\n",
       "      <td>2010</td>\n",
       "      <td>NaN</td>\n",
       "    </tr>\n",
       "  </tbody>\n",
       "</table>\n",
       "</div>"
      ],
      "text/plain": [
       "         Borough  Year  Median Rent\n",
       "0          Bronx  2010      1425.00\n",
       "1       Brooklyn  2010      2033.50\n",
       "2      Manhattan  2010      2847.50\n",
       "3         Queens  2010      1538.25\n",
       "4  Staten Island  2010          NaN"
      ]
     },
     "execution_count": 23,
     "metadata": {},
     "output_type": "execute_result"
    }
   ],
   "source": [
    "melted_rent.head()"
   ]
  },
  {
   "cell_type": "code",
   "execution_count": 12,
   "id": "35fc62d8",
   "metadata": {},
   "outputs": [],
   "source": [
    "# Convert 'Year' from '2010 Total Rentals' to '2010' and to int for plotting\n",
    "melted_inventory['Year'] = melted_inventory['Year'].str.split(' ').str[0].astype(int)\n",
    "melted_rent['Year'] = melted_rent['Year'].str.split(' ').str[0].astype(int)\n"
   ]
  },
  {
   "cell_type": "code",
   "execution_count": 13,
   "id": "9bd9e005",
   "metadata": {
    "scrolled": false
   },
   "outputs": [
    {
     "data": {
      "image/png": "[encoded data removed]",
      "text/plain": [
       "<Figure size 1400x700 with 1 Axes>"
      ]
     },
     "metadata": {},
     "output_type": "display_data"
    }
   ],
   "source": [
    "# Create a figure and a single subplot\n",
    "fig, ax1 = plt.subplots(figsize=(14, 7))\n"
   ]
  },
  {
   "cell_type": "code",
   "execution_count": 14,
   "id": "a1d834cc",
   "metadata": {},
   "outputs": [],
   "source": [
    "# Scatter plot for Total Rentals with logarithmic scale\n",
    "colors = ['blue', 'green', 'red', 'purple', 'orange']\n",
    "for (borough, color) in zip(melted_inventory['Borough'].unique(), colors):\n",
    "    ax1.scatter(melted_inventory[melted_inventory['Borough'] == borough]['Year'], \n",
    "                melted_inventory[melted_inventory['Borough'] == borough]['Total Rentals'], \n",
    "                color=color, label=f\"{borough} Total Rentals\")\n"
   ]
  },
  {
   "cell_type": "code",
   "execution_count": 29,
   "id": "036802fb",
   "metadata": {},
   "outputs": [
    {
     "ename": "ValueError",
     "evalue": "too many values to unpack (expected 2)",
     "output_type": "error",
     "traceback": [
      "\u001b[0;31m---------------------------------------------------------------------------\u001b[0m",
      "\u001b[0;31mValueError\u001b[0m                                Traceback (most recent call last)",
      "Cell \u001b[0;32mIn[29], line 3\u001b[0m\n\u001b[1;32m      1\u001b[0m \u001b[38;5;66;03m# Set Y-axis to logarithmic scale\u001b[39;00m\n\u001b[1;32m      2\u001b[0m ax1\u001b[38;5;241m.\u001b[39mset_yscale(\u001b[38;5;124m'\u001b[39m\u001b[38;5;124mlog\u001b[39m\u001b[38;5;124m'\u001b[39m)\n\u001b[0;32m----> 3\u001b[0m ax1\u001b[38;5;241m.\u001b[39mset_ylim(\u001b[38;5;124m'\u001b[39m\u001b[38;5;124mlog\u001b[39m\u001b[38;5;124m'\u001b[39m)\n",
      "File \u001b[0;32m~/anaconda3/lib/python3.11/site-packages/matplotlib/_api/deprecation.py:454\u001b[0m, in \u001b[0;36mmake_keyword_only.<locals>.wrapper\u001b[0;34m(*args, **kwargs)\u001b[0m\n\u001b[1;32m    448\u001b[0m \u001b[38;5;28;01mif\u001b[39;00m \u001b[38;5;28mlen\u001b[39m(args) \u001b[38;5;241m>\u001b[39m name_idx:\n\u001b[1;32m    449\u001b[0m     warn_deprecated(\n\u001b[1;32m    450\u001b[0m         since, message\u001b[38;5;241m=\u001b[39m\u001b[38;5;124m\"\u001b[39m\u001b[38;5;124mPassing the \u001b[39m\u001b[38;5;132;01m%(name)s\u001b[39;00m\u001b[38;5;124m \u001b[39m\u001b[38;5;132;01m%(obj_type)s\u001b[39;00m\u001b[38;5;124m \u001b[39m\u001b[38;5;124m\"\u001b[39m\n\u001b[1;32m    451\u001b[0m         \u001b[38;5;124m\"\u001b[39m\u001b[38;5;124mpositionally is deprecated since Matplotlib \u001b[39m\u001b[38;5;132;01m%(since)s\u001b[39;00m\u001b[38;5;124m; the \u001b[39m\u001b[38;5;124m\"\u001b[39m\n\u001b[1;32m    452\u001b[0m         \u001b[38;5;124m\"\u001b[39m\u001b[38;5;124mparameter will become keyword-only \u001b[39m\u001b[38;5;132;01m%(removal)s\u001b[39;00m\u001b[38;5;124m.\u001b[39m\u001b[38;5;124m\"\u001b[39m,\n\u001b[1;32m    453\u001b[0m         name\u001b[38;5;241m=\u001b[39mname, obj_type\u001b[38;5;241m=\u001b[39m\u001b[38;5;124mf\u001b[39m\u001b[38;5;124m\"\u001b[39m\u001b[38;5;124mparameter of \u001b[39m\u001b[38;5;132;01m{\u001b[39;00mfunc\u001b[38;5;241m.\u001b[39m\u001b[38;5;18m__name__\u001b[39m\u001b[38;5;132;01m}\u001b[39;00m\u001b[38;5;124m()\u001b[39m\u001b[38;5;124m\"\u001b[39m)\n\u001b[0;32m--> 454\u001b[0m \u001b[38;5;28;01mreturn\u001b[39;00m func(\u001b[38;5;241m*\u001b[39margs, \u001b[38;5;241m*\u001b[39m\u001b[38;5;241m*\u001b[39mkwargs)\n",
      "File \u001b[0;32m~/anaconda3/lib/python3.11/site-packages/matplotlib/axes/_base.py:3873\u001b[0m, in \u001b[0;36m_AxesBase.set_ylim\u001b[0;34m(self, bottom, top, emit, auto, ymin, ymax)\u001b[0m\n\u001b[1;32m   3808\u001b[0m \u001b[38;5;250m\u001b[39m\u001b[38;5;124;03m\"\"\"\u001b[39;00m\n\u001b[1;32m   3809\u001b[0m \u001b[38;5;124;03mSet the y-axis view limits.\u001b[39;00m\n\u001b[1;32m   3810\u001b[0m \n\u001b[0;32m   (...)\u001b[0m\n\u001b[1;32m   3870\u001b[0m \u001b[38;5;124;03m>>> set_ylim(5000, 0)\u001b[39;00m\n\u001b[1;32m   3871\u001b[0m \u001b[38;5;124;03m\"\"\"\u001b[39;00m\n\u001b[1;32m   3872\u001b[0m \u001b[38;5;28;01mif\u001b[39;00m top \u001b[38;5;129;01mis\u001b[39;00m \u001b[38;5;28;01mNone\u001b[39;00m \u001b[38;5;129;01mand\u001b[39;00m np\u001b[38;5;241m.\u001b[39miterable(bottom):\n\u001b[0;32m-> 3873\u001b[0m     bottom, top \u001b[38;5;241m=\u001b[39m bottom\n\u001b[1;32m   3874\u001b[0m \u001b[38;5;28;01mif\u001b[39;00m ymin \u001b[38;5;129;01mis\u001b[39;00m \u001b[38;5;129;01mnot\u001b[39;00m \u001b[38;5;28;01mNone\u001b[39;00m:\n\u001b[1;32m   3875\u001b[0m     \u001b[38;5;28;01mif\u001b[39;00m bottom \u001b[38;5;129;01mis\u001b[39;00m \u001b[38;5;129;01mnot\u001b[39;00m \u001b[38;5;28;01mNone\u001b[39;00m:\n",
      "\u001b[0;31mValueError\u001b[0m: too many values to unpack (expected 2)"
     ]
    }
   ],
   "source": [
    "# Set Y-axis to logarithmic scale\n",
    "ax1.set_yscale('log')\n",
    "ax1.set_ylim('') "
   ]
  },
  {
   "cell_type": "code",
   "execution_count": 30,
   "id": "8140684c",
   "metadata": {},
   "outputs": [],
   "source": [
    "# Create another axis for the Median Rent\n",
    "ax2 = ax1.twinx()\n",
    "for (borough, color) in zip(melted_rent['Borough'].unique(), colors):\n",
    "    ax2.scatter(melted_rent[melted_rent['Borough'] == borough]['Year'], \n",
    "                melted_rent[melted_rent['Borough'] == borough]['Median Rent'], \n",
    "                color=color, label=f\"{borough} Median Rent\", marker='x')\n"
   ]
  },
  {
   "cell_type": "code",
   "execution_count": 26,
   "id": "bdc1ed89",
   "metadata": {},
   "outputs": [
    {
     "data": {
      "text/plain": [
       "Text(0.5, 1.0, 'Total Rentals (Log Scale) and Median Rent per Borough per Year')"
      ]
     },
     "execution_count": 26,
     "metadata": {},
     "output_type": "execute_result"
    }
   ],
   "source": [
    "# Labels and titles\n",
    "ax1.set_xlabel('Year')\n",
    "ax1.set_ylabel('Total Rentals (Log Scale)', color='blue')\n",
    "ax2.set_ylabel('Median Rent', color='orange')\n",
    "ax1.set_title('Total Rentals (Log Scale) and Median Rent per Borough per Year')\n"
   ]
  },
  {
   "cell_type": "code",
   "execution_count": 27,
   "id": "a6f43c07",
   "metadata": {},
   "outputs": [
    {
     "data": {
      "text/plain": [
       "<matplotlib.legend.Legend at 0x151f925d0>"
      ]
     },
     "execution_count": 27,
     "metadata": {},
     "output_type": "execute_result"
    }
   ],
   "source": [
    "# Create combined legend for both plots\n",
    "lines_1, labels_1 = ax1.get_legend_handles_labels()\n",
    "lines_2, labels_2 = ax2.get_legend_handles_labels()\n",
    "ax2.legend(lines_1 + lines_2, labels_1 + labels_2, loc='upper left')"
   ]
  },
  {
   "cell_type": "code",
   "execution_count": 28,
   "id": "3d41dcde",
   "metadata": {},
   "outputs": [],
   "source": [
    "# Show plot with grid\n",
    "ax1.grid(True)\n",
    "plt.show()"
   ]
  },
  {
   "cell_type": "code",
   "execution_count": null,
   "id": "4990df38",
   "metadata": {},
   "outputs": [],
   "source": []
  }
 ],
 "metadata": {
  "kernelspec": {
   "display_name": "Python 3 (ipykernel)",
   "language": "python",
   "name": "python3"
  },
  "language_info": {
   "codemirror_mode": {
    "name": "ipython",
    "version": 3
   },
   "file_extension": ".py",
   "mimetype": "text/x-python",
   "name": "python",
   "nbconvert_exporter": "python",
   "pygments_lexer": "ipython3",
   "version": "3.11.5"
  }
 },
 "nbformat": 4,
 "nbformat_minor": 5
}
