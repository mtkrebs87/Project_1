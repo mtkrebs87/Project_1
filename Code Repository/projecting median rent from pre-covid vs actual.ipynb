{
 "cells": [
  {
   "cell_type": "code",
   "execution_count": 7,
   "id": "e4281d00",
   "metadata": {},
   "outputs": [],
   "source": [
    "import pandas as pd\n",
    "import matplotlib.pyplot as plt\n",
    "from sklearn.linear_model import LinearRegression\n",
    "import numpy as np\n",
    "import os"
   ]
  },
  {
   "cell_type": "code",
   "execution_count": 8,
   "id": "48a2dbcd",
   "metadata": {},
   "outputs": [],
   "source": [
    "# Check if output directory exists, if not, create it\n",
    "output_directory = '../Charts and Graphs Output'\n",
    "os.makedirs(output_directory, exist_ok=True)\n"
   ]
  },
  {
   "cell_type": "code",
   "execution_count": 9,
   "id": "ea1f8e05",
   "metadata": {},
   "outputs": [],
   "source": [
    "# Load dataset\n",
    "df = pd.read_csv('../Data File Repository/Combined_Rental_Median_Price_Inventory.csv')\n"
   ]
  },
  {
   "cell_type": "code",
   "execution_count": 10,
   "id": "526d3f6c",
   "metadata": {},
   "outputs": [],
   "source": [
    "# Preprocess data: Melt and create a year column\n",
    "df = df.melt(id_vars=['Borough'], var_name='Year_Rentals', value_name='Value')\n",
    "df[['Year', 'Type']] = df['Year_Rentals'].str.extract('(\\d{4}) (Total Rentals|Median Rent)')\n",
    "df.drop('Year_Rentals', axis=1, inplace=True)\n",
    "df['Year'] = pd.to_numeric(df['Year'])\n",
    "df['Value'] = pd.to_numeric(df['Value'].replace('[\\$,]', '', regex=True), errors='coerce')\n"
   ]
  },
  {
   "cell_type": "code",
   "execution_count": 11,
   "id": "0a9e6661",
   "metadata": {},
   "outputs": [],
   "source": [
    "# Separate into a DataFrame for Median Rent\n",
    "df_median = df[df['Type'] == 'Median Rent'].drop('Type', axis=1)\n"
   ]
  },
  {
   "cell_type": "code",
   "execution_count": 14,
   "id": "ddea50fb",
   "metadata": {},
   "outputs": [],
   "source": [
    "# Iterate over each borough to create separate charts for Median Rent only\n",
    "for borough in df['Borough'].unique():\n",
    "    # Start a new figure for each borough\n",
    "    fig, ax = plt.subplots(figsize=(10, 6))\n",
    "\n",
    "    # Process data for Median Rent up to 2019 to create a trend projection\n",
    "    borough_median = df_median[df_median['Borough'] == borough]\n",
    "    X_median = borough_median[borough_median['Year'] <= 2019][['Year']]\n",
    "    y_median = borough_median[borough_median['Year'] <= 2019]['Value']\n",
    "    model_median = LinearRegression().fit(X_median, y_median)\n",
    "    X_median_predict = pd.DataFrame({'Year': range(2010, 2020)})  # Predict from 2010 to 2019 for trend line\n",
    "    y_median_predict = model_median.predict(X_median_predict)\n",
    "\n",
    "    # Plotting the trend line for Median Rent\n",
    "    ax.plot(X_median_predict['Year'], y_median_predict, color='purple', linestyle='-', linewidth=2, label='Trend (Median Rent)')\n",
    "\n",
    "    # Plot all actual data for Median Rent\n",
    "    ax.scatter(borough_median['Year'], borough_median['Value'], color='magenta', label='Actual (Median Rent)')\n",
    "\n",
    "    # Setting title and labels for the plot\n",
    "    ax.set_title(f'{borough} Median Rent Data (Projection and Actual)')\n",
    "    ax.set_xlabel('Year')\n",
    "    ax.set_ylabel('Values')\n",
    "    ax.legend()\n",
    "    \n",
    "    # Save the figure to the specified directory\n",
    "    plt.savefig(f\"{output_directory}/{borough}_median_rent_projection.png\")\n",
    "\n",
    "    # Close the figure to free memory\n",
    "    plt.close(fig)"
   ]
  },
  {
   "cell_type": "code",
   "execution_count": null,
   "id": "bd7da754",
   "metadata": {},
   "outputs": [],
   "source": []
  }
 ],
 "metadata": {
  "kernelspec": {
   "display_name": "Python 3 (ipykernel)",
   "language": "python",
   "name": "python3"
  },
  "language_info": {
   "codemirror_mode": {
    "name": "ipython",
    "version": 3
   },
   "file_extension": ".py",
   "mimetype": "text/x-python",
   "name": "python",
   "nbconvert_exporter": "python",
   "pygments_lexer": "ipython3",
   "version": "3.11.5"
  }
 },
 "nbformat": 4,
 "nbformat_minor": 5
}
