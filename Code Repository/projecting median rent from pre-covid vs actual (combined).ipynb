{
 "cells": [
  {
   "cell_type": "code",
   "execution_count": 12,
   "id": "e4281d00",
   "metadata": {},
   "outputs": [],
   "source": [
    "import pandas as pd\n",
    "import matplotlib.pyplot as plt\n",
    "from sklearn.linear_model import LinearRegression\n",
    "import numpy as np\n",
    "import os"
   ]
  },
  {
   "cell_type": "code",
   "execution_count": 13,
   "id": "c11cd27f",
   "metadata": {},
   "outputs": [],
   "source": [
    "# Check if output directory exists, if not, create it\n",
    "output_directory = '../Charts and Graphs Output'\n",
    "os.makedirs(output_directory, exist_ok=True)\n"
   ]
  },
  {
   "cell_type": "code",
   "execution_count": 14,
   "id": "e0d8b26d",
   "metadata": {},
   "outputs": [],
   "source": [
    "# Load dataset\n",
    "df = pd.read_csv('../Data File Repository/Combined_Rental_Median_Price_Inventory.csv')\n"
   ]
  },
  {
   "cell_type": "code",
   "execution_count": 15,
   "id": "f1efc7f6",
   "metadata": {},
   "outputs": [],
   "source": [
    "# Preprocess data: Melt and create a year column\n",
    "df = df.melt(id_vars=['Borough'], var_name='Year_Rentals', value_name='Value')\n",
    "df[['Year', 'Type']] = df['Year_Rentals'].str.extract('(\\d{4}) (Total Rentals|Median Rent)')\n",
    "df.drop('Year_Rentals', axis=1, inplace=True)\n",
    "df['Year'] = pd.to_numeric(df['Year'])\n",
    "df['Value'] = pd.to_numeric(df['Value'].replace('[\\$,]', '', regex=True), errors='coerce')\n"
   ]
  },
  {
   "cell_type": "code",
   "execution_count": 16,
   "id": "19f815a3",
   "metadata": {},
   "outputs": [],
   "source": [
    "# Separate into a DataFrame for Median Rent\n",
    "df_median = df[df['Type'] == 'Median Rent'].drop('Type', axis=1)\n"
   ]
  },
  {
   "cell_type": "code",
   "execution_count": 17,
   "id": "79203df4",
   "metadata": {},
   "outputs": [
    {
     "data": {
      "image/png": "[encoded data removed]",
      "text/plain": [
       "<Figure size 1200x800 with 1 Axes>"
      ]
     },
     "metadata": {},
     "output_type": "display_data"
    }
   ],
   "source": [
    "# Start a new figure for combined chart\n",
    "fig, ax = plt.subplots(figsize=(12, 8))\n",
    "\n",
    "colors = ['blue', 'green', 'red', 'cyan', 'magenta', 'yellow', 'black']  # Example color list for differentiation\n"
   ]
  },
  {
   "cell_type": "code",
   "execution_count": 23,
   "id": "d3b001dc",
   "metadata": {},
   "outputs": [
    {
     "ename": "IndentationError",
     "evalue": "unexpected indent (3812067677.py, line 17)",
     "output_type": "error",
     "traceback": [
      "\u001b[0;36m  Cell \u001b[0;32mIn[23], line 17\u001b[0;36m\u001b[0m\n\u001b[0;31m    ax.plot(X_median_predict['Year'], y_median_predict, color=colors[index % len(colors)], linestyle='-', linewidth=2, label=f'Trend ({borough})')\u001b[0m\n\u001b[0m    ^\u001b[0m\n\u001b[0;31mIndentationError\u001b[0m\u001b[0;31m:\u001b[0m unexpected indent\n"
     ]
    }
   ],
   "source": [
    "# Iterate over each borough to add to the combined chart\n",
    "for index, borough in enumerate(df['Borough'].unique()):\n",
    "    # Check data for the current borough\n",
    "    borough_median = df_median[df_median['Borough'] == borough]\n",
    "    print(f\"Data for {borough}:\\n{borough_median}\\n\")  # Debug print to ensure data is loaded\n",
    "\n",
    "    # Filter data up to 2019 to create a trend projection\n",
    "    pre_2020 = pre_2020[pre_2020['Value'] > 0]  # This removes rows where the 'Value' is less than or equal to 0\n",
    "\n",
    "    X_median = pre_2020[['Year']]\n",
    "    y_median = pre_2020['Value']\n",
    "    model_median = LinearRegression().fit(X_median, np.log(y_median))  # Now y doesn't have zero or negative numbers\n",
    "    X_median_predict = pd.DataFrame({'Year': range(2010, 2020)})\n",
    "    y_median_predict = np.exp(model_median.predict(X_median_predict))  # Predict and then exponentiate to go back to original scale\n",
    "\n",
    "        # Plotting the trend line for Median Rent\n",
    "        ax.plot(X_median_predict['Year'], y_median_predict, color=colors[index % len(colors)], linestyle='-', linewidth=2, label=f'Trend ({borough})')\n",
    "\n",
    "        # Plot all actual data for Median Rent\n",
    "        ax.scatter(borough_median['Year'], borough_median['Value'], color=colors[index % len(colors)], label=f'Actual ({borough})')\n"
   ]
  },
  {
   "cell_type": "code",
   "execution_count": 19,
   "id": "62d8c17c",
   "metadata": {},
   "outputs": [],
   "source": [
    "# Set the y-axis to a logarithmic scale\n",
    "ax.set_yscale('log')"
   ]
  },
  {
   "cell_type": "code",
   "execution_count": 20,
   "id": "71517d82",
   "metadata": {},
   "outputs": [
    {
     "data": {
      "text/plain": [
       "<matplotlib.legend.Legend at 0x15a54b5d0>"
      ]
     },
     "execution_count": 20,
     "metadata": {},
     "output_type": "execute_result"
    }
   ],
   "source": [
    "# Setting title and labels for the plot\n",
    "ax.set_title('Median Rent Data Across Boroughs (Projection and Actual)')\n",
    "ax.set_xlabel('Year')\n",
    "ax.set_ylabel('Values (log scale)')\n",
    "ax.legend()"
   ]
  },
  {
   "cell_type": "code",
   "execution_count": 21,
   "id": "95791224",
   "metadata": {},
   "outputs": [
    {
     "data": {
      "text/plain": [
       "<Figure size 640x480 with 0 Axes>"
      ]
     },
     "metadata": {},
     "output_type": "display_data"
    }
   ],
   "source": [
    "# Save the figure to the specified directory\n",
    "plt.savefig(f\"{output_directory}/Combined_Boroughs_Median_Rent_Chart.png\")\n"
   ]
  },
  {
   "cell_type": "code",
   "execution_count": 22,
   "id": "d6e780c5",
   "metadata": {},
   "outputs": [],
   "source": [
    "# Close the figure to free memory\n",
    "plt.close(fig)"
   ]
  },
  {
   "cell_type": "code",
   "execution_count": null,
   "id": "cabce17a",
   "metadata": {},
   "outputs": [],
   "source": []
  }
 ],
 "metadata": {
  "kernelspec": {
   "display_name": "Python 3 (ipykernel)",
   "language": "python",
   "name": "python3"
  },
  "language_info": {
   "codemirror_mode": {
    "name": "ipython",
    "version": 3
   },
   "file_extension": ".py",
   "mimetype": "text/x-python",
   "name": "python",
   "nbconvert_exporter": "python",
   "pygments_lexer": "ipython3",
   "version": "3.11.5"
  }
 },
 "nbformat": 4,
 "nbformat_minor": 5
}
